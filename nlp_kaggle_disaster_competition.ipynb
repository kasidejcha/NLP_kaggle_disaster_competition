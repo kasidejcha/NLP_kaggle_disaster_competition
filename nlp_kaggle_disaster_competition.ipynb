{
  "nbformat": 4,
  "nbformat_minor": 0,
  "metadata": {
    "colab": {
      "name": "nlp_kaggle_disaster_competition.ipynb",
      "provenance": [],
      "toc_visible": true,
      "mount_file_id": "1CdJRtdjxGSfZfy-2JzPjG7ndFkTGoeYw",
      "authorship_tag": "ABX9TyOj6MmGjra0r4XeUMa4fw1P",
      "include_colab_link": true
    },
    "kernelspec": {
      "name": "python3",
      "display_name": "Python 3"
    },
    "language_info": {
      "name": "python"
    },
    "accelerator": "GPU"
  },
  "cells": [
    {
      "cell_type": "markdown",
      "metadata": {
        "id": "view-in-github",
        "colab_type": "text"
      },
      "source": [
        "<a href=\"https://colab.research.google.com/github/kasidejcha/NLP_kaggle_disaster_competition/blob/main/nlp_kaggle_disaster_competition.ipynb\" target=\"_parent\"><img src=\"https://colab.research.google.com/assets/colab-badge.svg\" alt=\"Open In Colab\"/></a>"
      ]
    },
    {
      "cell_type": "code",
      "metadata": {
        "colab": {
          "base_uri": "https://localhost:8080/"
        },
        "id": "zK0C4FwgnbcN",
        "outputId": "03d2d19e-0a19-4426-8eeb-9173bf6a935f"
      },
      "source": [
        "!nvidia-smi -L"
      ],
      "execution_count": null,
      "outputs": [
        {
          "output_type": "stream",
          "name": "stdout",
          "text": [
            "GPU 0: Tesla P100-PCIE-16GB (UUID: GPU-9684cd1d-6b4d-8526-6d6f-daf85b803695)\n"
          ]
        }
      ]
    },
    {
      "cell_type": "markdown",
      "metadata": {
        "id": "8RNS_j5Kndta"
      },
      "source": [
        "## Get helper functions"
      ]
    },
    {
      "cell_type": "code",
      "metadata": {
        "colab": {
          "base_uri": "https://localhost:8080/"
        },
        "id": "3nLfTV5cnktp",
        "outputId": "8e912f6b-047b-45c7-b3aa-8389f84d671e"
      },
      "source": [
        "!wget https://raw.githubusercontent.com/mrdbourke/tensorflow-deep-learning/main/extras/helper_functions.py\n",
        "\n",
        "# Import series of helper functions\n",
        "from helper_functions import unzip_data, create_tensorboard_callback, plot_loss_curves, compare_historys"
      ],
      "execution_count": null,
      "outputs": [
        {
          "output_type": "stream",
          "name": "stdout",
          "text": [
            "--2021-10-01 04:14:53--  https://raw.githubusercontent.com/mrdbourke/tensorflow-deep-learning/main/extras/helper_functions.py\n",
            "Resolving raw.githubusercontent.com (raw.githubusercontent.com)... 185.199.109.133, 185.199.111.133, 185.199.110.133, ...\n",
            "Connecting to raw.githubusercontent.com (raw.githubusercontent.com)|185.199.109.133|:443... connected.\n",
            "HTTP request sent, awaiting response... 200 OK\n",
            "Length: 10246 (10K) [text/plain]\n",
            "Saving to: ‘helper_functions.py’\n",
            "\n",
            "helper_functions.py 100%[===================>]  10.01K  --.-KB/s    in 0s      \n",
            "\n",
            "2021-10-01 04:14:53 (110 MB/s) - ‘helper_functions.py’ saved [10246/10246]\n",
            "\n"
          ]
        }
      ]
    },
    {
      "cell_type": "markdown",
      "metadata": {
        "id": "r9WBi4HnosE8"
      },
      "source": [
        "## Get a text dataset\n",
        "\n",
        "Dataset: Kaggle's introduction to NLP dataset (text samples of tweets labelled as disaster or not disaster)\n",
        "\n",
        "Link: https://www.kaggle.com/c/nlp-getting-started"
      ]
    },
    {
      "cell_type": "code",
      "metadata": {
        "colab": {
          "base_uri": "https://localhost:8080/"
        },
        "id": "jpLLsP7Uow-t",
        "outputId": "f25bb63d-5f89-4cbb-c609-d7d8474b3c1d"
      },
      "source": [
        "!wget https://storage.googleapis.com/ztm_tf_course/nlp_getting_started.zip\n",
        "\n",
        "# Unzip data\n",
        "unzip_data('nlp_getting_started.zip')"
      ],
      "execution_count": null,
      "outputs": [
        {
          "output_type": "stream",
          "name": "stdout",
          "text": [
            "--2021-10-01 04:14:55--  https://storage.googleapis.com/ztm_tf_course/nlp_getting_started.zip\n",
            "Resolving storage.googleapis.com (storage.googleapis.com)... 108.177.119.128, 108.177.127.128, 172.217.218.128, ...\n",
            "Connecting to storage.googleapis.com (storage.googleapis.com)|108.177.119.128|:443... connected.\n",
            "HTTP request sent, awaiting response... 200 OK\n",
            "Length: 607343 (593K) [application/zip]\n",
            "Saving to: ‘nlp_getting_started.zip’\n",
            "\n",
            "nlp_getting_started 100%[===================>] 593.11K  --.-KB/s    in 0.004s  \n",
            "\n",
            "2021-10-01 04:14:56 (137 MB/s) - ‘nlp_getting_started.zip’ saved [607343/607343]\n",
            "\n"
          ]
        }
      ]
    },
    {
      "cell_type": "markdown",
      "metadata": {
        "id": "tSRASKk6pTHk"
      },
      "source": [
        "## Visualizing a text dataset"
      ]
    },
    {
      "cell_type": "code",
      "metadata": {
        "colab": {
          "base_uri": "https://localhost:8080/",
          "height": 206
        },
        "id": "1i2qaznOsihL",
        "outputId": "30401872-c91a-4eb5-82fa-9eee9bfe5795"
      },
      "source": [
        "# read in the text data\n",
        "import pandas as pd\n",
        "train_df = pd.read_csv('train.csv')\n",
        "test_df = pd.read_csv('test.csv')\n",
        "train_df.head()"
      ],
      "execution_count": null,
      "outputs": [
        {
          "output_type": "execute_result",
          "data": {
            "text/html": [
              "<div>\n",
              "<style scoped>\n",
              "    .dataframe tbody tr th:only-of-type {\n",
              "        vertical-align: middle;\n",
              "    }\n",
              "\n",
              "    .dataframe tbody tr th {\n",
              "        vertical-align: top;\n",
              "    }\n",
              "\n",
              "    .dataframe thead th {\n",
              "        text-align: right;\n",
              "    }\n",
              "</style>\n",
              "<table border=\"1\" class=\"dataframe\">\n",
              "  <thead>\n",
              "    <tr style=\"text-align: right;\">\n",
              "      <th></th>\n",
              "      <th>id</th>\n",
              "      <th>keyword</th>\n",
              "      <th>location</th>\n",
              "      <th>text</th>\n",
              "      <th>target</th>\n",
              "    </tr>\n",
              "  </thead>\n",
              "  <tbody>\n",
              "    <tr>\n",
              "      <th>0</th>\n",
              "      <td>1</td>\n",
              "      <td>NaN</td>\n",
              "      <td>NaN</td>\n",
              "      <td>Our Deeds are the Reason of this #earthquake M...</td>\n",
              "      <td>1</td>\n",
              "    </tr>\n",
              "    <tr>\n",
              "      <th>1</th>\n",
              "      <td>4</td>\n",
              "      <td>NaN</td>\n",
              "      <td>NaN</td>\n",
              "      <td>Forest fire near La Ronge Sask. Canada</td>\n",
              "      <td>1</td>\n",
              "    </tr>\n",
              "    <tr>\n",
              "      <th>2</th>\n",
              "      <td>5</td>\n",
              "      <td>NaN</td>\n",
              "      <td>NaN</td>\n",
              "      <td>All residents asked to 'shelter in place' are ...</td>\n",
              "      <td>1</td>\n",
              "    </tr>\n",
              "    <tr>\n",
              "      <th>3</th>\n",
              "      <td>6</td>\n",
              "      <td>NaN</td>\n",
              "      <td>NaN</td>\n",
              "      <td>13,000 people receive #wildfires evacuation or...</td>\n",
              "      <td>1</td>\n",
              "    </tr>\n",
              "    <tr>\n",
              "      <th>4</th>\n",
              "      <td>7</td>\n",
              "      <td>NaN</td>\n",
              "      <td>NaN</td>\n",
              "      <td>Just got sent this photo from Ruby #Alaska as ...</td>\n",
              "      <td>1</td>\n",
              "    </tr>\n",
              "  </tbody>\n",
              "</table>\n",
              "</div>"
            ],
            "text/plain": [
              "   id keyword  ...                                               text target\n",
              "0   1     NaN  ...  Our Deeds are the Reason of this #earthquake M...      1\n",
              "1   4     NaN  ...             Forest fire near La Ronge Sask. Canada      1\n",
              "2   5     NaN  ...  All residents asked to 'shelter in place' are ...      1\n",
              "3   6     NaN  ...  13,000 people receive #wildfires evacuation or...      1\n",
              "4   7     NaN  ...  Just got sent this photo from Ruby #Alaska as ...      1\n",
              "\n",
              "[5 rows x 5 columns]"
            ]
          },
          "metadata": {},
          "execution_count": 4
        }
      ]
    },
    {
      "cell_type": "code",
      "metadata": {
        "colab": {
          "base_uri": "https://localhost:8080/",
          "height": 206
        },
        "id": "eI-1ENnDuQl1",
        "outputId": "ae0dacca-b5c2-4e9e-f08f-09505879d7f1"
      },
      "source": [
        "# Shuffle training dataframe\n",
        "train_df_shuffled = train_df.sample(frac=1, random_state=42) # pandas shuffle\n",
        "train_df_shuffled.head()"
      ],
      "execution_count": null,
      "outputs": [
        {
          "output_type": "execute_result",
          "data": {
            "text/html": [
              "<div>\n",
              "<style scoped>\n",
              "    .dataframe tbody tr th:only-of-type {\n",
              "        vertical-align: middle;\n",
              "    }\n",
              "\n",
              "    .dataframe tbody tr th {\n",
              "        vertical-align: top;\n",
              "    }\n",
              "\n",
              "    .dataframe thead th {\n",
              "        text-align: right;\n",
              "    }\n",
              "</style>\n",
              "<table border=\"1\" class=\"dataframe\">\n",
              "  <thead>\n",
              "    <tr style=\"text-align: right;\">\n",
              "      <th></th>\n",
              "      <th>id</th>\n",
              "      <th>keyword</th>\n",
              "      <th>location</th>\n",
              "      <th>text</th>\n",
              "      <th>target</th>\n",
              "    </tr>\n",
              "  </thead>\n",
              "  <tbody>\n",
              "    <tr>\n",
              "      <th>2644</th>\n",
              "      <td>3796</td>\n",
              "      <td>destruction</td>\n",
              "      <td>NaN</td>\n",
              "      <td>So you have a new weapon that can cause un-ima...</td>\n",
              "      <td>1</td>\n",
              "    </tr>\n",
              "    <tr>\n",
              "      <th>2227</th>\n",
              "      <td>3185</td>\n",
              "      <td>deluge</td>\n",
              "      <td>NaN</td>\n",
              "      <td>The f$&amp;amp;@ing things I do for #GISHWHES Just...</td>\n",
              "      <td>0</td>\n",
              "    </tr>\n",
              "    <tr>\n",
              "      <th>5448</th>\n",
              "      <td>7769</td>\n",
              "      <td>police</td>\n",
              "      <td>UK</td>\n",
              "      <td>DT @georgegalloway: RT @Galloway4Mayor: ÛÏThe...</td>\n",
              "      <td>1</td>\n",
              "    </tr>\n",
              "    <tr>\n",
              "      <th>132</th>\n",
              "      <td>191</td>\n",
              "      <td>aftershock</td>\n",
              "      <td>NaN</td>\n",
              "      <td>Aftershock back to school kick off was great. ...</td>\n",
              "      <td>0</td>\n",
              "    </tr>\n",
              "    <tr>\n",
              "      <th>6845</th>\n",
              "      <td>9810</td>\n",
              "      <td>trauma</td>\n",
              "      <td>Montgomery County, MD</td>\n",
              "      <td>in response to trauma Children of Addicts deve...</td>\n",
              "      <td>0</td>\n",
              "    </tr>\n",
              "  </tbody>\n",
              "</table>\n",
              "</div>"
            ],
            "text/plain": [
              "        id  ... target\n",
              "2644  3796  ...      1\n",
              "2227  3185  ...      0\n",
              "5448  7769  ...      1\n",
              "132    191  ...      0\n",
              "6845  9810  ...      0\n",
              "\n",
              "[5 rows x 5 columns]"
            ]
          },
          "metadata": {},
          "execution_count": 5
        }
      ]
    },
    {
      "cell_type": "code",
      "metadata": {
        "colab": {
          "base_uri": "https://localhost:8080/",
          "height": 206
        },
        "id": "FYsrTO8wuVzG",
        "outputId": "7ed92ac0-d5d4-43de-9932-007337c0c086"
      },
      "source": [
        "# What does the test dataframe look like?\n",
        "test_df.head()"
      ],
      "execution_count": null,
      "outputs": [
        {
          "output_type": "execute_result",
          "data": {
            "text/html": [
              "<div>\n",
              "<style scoped>\n",
              "    .dataframe tbody tr th:only-of-type {\n",
              "        vertical-align: middle;\n",
              "    }\n",
              "\n",
              "    .dataframe tbody tr th {\n",
              "        vertical-align: top;\n",
              "    }\n",
              "\n",
              "    .dataframe thead th {\n",
              "        text-align: right;\n",
              "    }\n",
              "</style>\n",
              "<table border=\"1\" class=\"dataframe\">\n",
              "  <thead>\n",
              "    <tr style=\"text-align: right;\">\n",
              "      <th></th>\n",
              "      <th>id</th>\n",
              "      <th>keyword</th>\n",
              "      <th>location</th>\n",
              "      <th>text</th>\n",
              "    </tr>\n",
              "  </thead>\n",
              "  <tbody>\n",
              "    <tr>\n",
              "      <th>0</th>\n",
              "      <td>0</td>\n",
              "      <td>NaN</td>\n",
              "      <td>NaN</td>\n",
              "      <td>Just happened a terrible car crash</td>\n",
              "    </tr>\n",
              "    <tr>\n",
              "      <th>1</th>\n",
              "      <td>2</td>\n",
              "      <td>NaN</td>\n",
              "      <td>NaN</td>\n",
              "      <td>Heard about #earthquake is different cities, s...</td>\n",
              "    </tr>\n",
              "    <tr>\n",
              "      <th>2</th>\n",
              "      <td>3</td>\n",
              "      <td>NaN</td>\n",
              "      <td>NaN</td>\n",
              "      <td>there is a forest fire at spot pond, geese are...</td>\n",
              "    </tr>\n",
              "    <tr>\n",
              "      <th>3</th>\n",
              "      <td>9</td>\n",
              "      <td>NaN</td>\n",
              "      <td>NaN</td>\n",
              "      <td>Apocalypse lighting. #Spokane #wildfires</td>\n",
              "    </tr>\n",
              "    <tr>\n",
              "      <th>4</th>\n",
              "      <td>11</td>\n",
              "      <td>NaN</td>\n",
              "      <td>NaN</td>\n",
              "      <td>Typhoon Soudelor kills 28 in China and Taiwan</td>\n",
              "    </tr>\n",
              "  </tbody>\n",
              "</table>\n",
              "</div>"
            ],
            "text/plain": [
              "   id keyword location                                               text\n",
              "0   0     NaN      NaN                 Just happened a terrible car crash\n",
              "1   2     NaN      NaN  Heard about #earthquake is different cities, s...\n",
              "2   3     NaN      NaN  there is a forest fire at spot pond, geese are...\n",
              "3   9     NaN      NaN           Apocalypse lighting. #Spokane #wildfires\n",
              "4  11     NaN      NaN      Typhoon Soudelor kills 28 in China and Taiwan"
            ]
          },
          "metadata": {},
          "execution_count": 6
        }
      ]
    },
    {
      "cell_type": "code",
      "metadata": {
        "colab": {
          "base_uri": "https://localhost:8080/"
        },
        "id": "y1gF-9Hjv36G",
        "outputId": "80680281-ade5-493f-de2f-89af7be2f1d4"
      },
      "source": [
        "train_df.target.value_counts() # balanced dataset"
      ],
      "execution_count": null,
      "outputs": [
        {
          "output_type": "execute_result",
          "data": {
            "text/plain": [
              "0    4342\n",
              "1    3271\n",
              "Name: target, dtype: int64"
            ]
          },
          "metadata": {},
          "execution_count": 7
        }
      ]
    },
    {
      "cell_type": "code",
      "metadata": {
        "colab": {
          "base_uri": "https://localhost:8080/"
        },
        "id": "KsCZNFWvv_vb",
        "outputId": "5e06b8ab-eb1c-40fd-fa63-412426fbc61d"
      },
      "source": [
        "len(train_df), len(test_df)"
      ],
      "execution_count": null,
      "outputs": [
        {
          "output_type": "execute_result",
          "data": {
            "text/plain": [
              "(7613, 3263)"
            ]
          },
          "metadata": {},
          "execution_count": 8
        }
      ]
    },
    {
      "cell_type": "code",
      "metadata": {
        "colab": {
          "base_uri": "https://localhost:8080/"
        },
        "id": "iKMF6ul4wobb",
        "outputId": "bde40154-ade6-423f-a9a7-96aff546387c"
      },
      "source": [
        "# Let's visualize some random training example\n",
        "import random\n",
        "random_index = random.randint(0,len(train_df)-5) # create random indexes not higher than highest number of row\n",
        "for row in train_df_shuffled[['text','target']][random_index:random_index+5].itertuples():\n",
        "  _, text, target = row\n",
        "  print(f'Target: {target}', '(real disaster)' if target > 0 else '(not real disaster)')\n",
        "  print(f'Text:\\n{text}\\n')\n",
        "  print('---\\n')"
      ],
      "execution_count": null,
      "outputs": [
        {
          "output_type": "stream",
          "name": "stdout",
          "text": [
            "Target: 1 (real disaster)\n",
            "Text:\n",
            "Burned dog finds new home with young burn victim http://t.co/Pqrjvgvgxg\n",
            "\n",
            "---\n",
            "\n",
            "Target: 0 (not real disaster)\n",
            "Text:\n",
            "This is a tragedy: I added the wrong book to my TBR list now I can't find the right one. This is what comes of browsing just on gr homepage.\n",
            "\n",
            "---\n",
            "\n",
            "Target: 0 (not real disaster)\n",
            "Text:\n",
            "I keep scrolling to find out what he said or did....but there seems to be no exact starting point.  Wounds run deep. : /\n",
            "\n",
            "---\n",
            "\n",
            "Target: 0 (not real disaster)\n",
            "Text:\n",
            "@laevantine Fortunately I reworked the plumbing on my emergency chemical shower to draw from the glitter pipe for just such an occasion\n",
            "\n",
            "---\n",
            "\n",
            "Target: 1 (real disaster)\n",
            "Text:\n",
            "@PyramidHead76 one good thing came out of watching the film.  Was too traumatised to watch show so started Halt &amp; Catch Fire on Amazon. :D\n",
            "\n",
            "---\n",
            "\n"
          ]
        }
      ]
    },
    {
      "cell_type": "markdown",
      "metadata": {
        "id": "2ElXfDkcxuCA"
      },
      "source": [
        "## Split data into training and validation set"
      ]
    },
    {
      "cell_type": "code",
      "metadata": {
        "id": "gMMjzDJ3ylMX"
      },
      "source": [
        "from sklearn.model_selection import train_test_split\n",
        "\n",
        "# Use train_test_split to split training data into training and valiadation sets\n",
        "train_sentences, val_sentences, train_labels, val_labels = train_test_split(train_df_shuffled['text'].to_numpy(),\n",
        "                                                                            train_df_shuffled['target'].to_numpy(),\n",
        "                                                                            test_size = 0.1, # use only 10% of the data as validation\n",
        "                                                                            random_state = 42)"
      ],
      "execution_count": null,
      "outputs": []
    },
    {
      "cell_type": "code",
      "metadata": {
        "colab": {
          "base_uri": "https://localhost:8080/"
        },
        "id": "gQjVI5tqzcFW",
        "outputId": "cd0a7007-c533-443f-a102-15b3eaffed7c"
      },
      "source": [
        "# Check the lengths\n",
        "len(train_sentences), len(train_labels), len(val_sentences), len(val_labels), len(train_sentences) + len(val_sentences),len(train_df_shuffled)"
      ],
      "execution_count": null,
      "outputs": [
        {
          "output_type": "execute_result",
          "data": {
            "text/plain": [
              "(6851, 6851, 762, 762, 7613, 7613)"
            ]
          },
          "metadata": {},
          "execution_count": 11
        }
      ]
    },
    {
      "cell_type": "code",
      "metadata": {
        "colab": {
          "base_uri": "https://localhost:8080/"
        },
        "id": "YwmpvCSezuiZ",
        "outputId": "d65d9192-4876-42d0-fb4b-d9be5a6d62e9"
      },
      "source": [
        "# check the first 10 samples\n",
        "train_sentences[:10], train_labels[:10]"
      ],
      "execution_count": null,
      "outputs": [
        {
          "output_type": "execute_result",
          "data": {
            "text/plain": [
              "(array(['@mogacola @zamtriossu i screamed after hitting tweet',\n",
              "        'Imagine getting flattened by Kurt Zouma',\n",
              "        '@Gurmeetramrahim #MSGDoing111WelfareWorks Green S welfare force ke appx 65000 members har time disaster victim ki help ke liye tyar hai....',\n",
              "        \"@shakjn @C7 @Magnums im shaking in fear he's gonna hack the planet\",\n",
              "        'Somehow find you and I collide http://t.co/Ee8RpOahPk',\n",
              "        '@EvaHanderek @MarleyKnysh great times until the bus driver held us hostage in the mall parking lot lmfao',\n",
              "        'destroy the free fandom honestly',\n",
              "        'Weapons stolen from National Guard Armory in New Albany still missing #Gunsense http://t.co/lKNU8902JE',\n",
              "        '@wfaaweather Pete when will the heat wave pass? Is it really going to be mid month? Frisco Boy Scouts have a canoe trip in Okla.',\n",
              "        'Patient-reported outcomes in long-term survivors of metastatic colorectal cancer - British Journal of Surgery http://t.co/5Yl4DC1Tqt'],\n",
              "       dtype=object), array([0, 0, 1, 0, 0, 1, 1, 0, 1, 1]))"
            ]
          },
          "metadata": {},
          "execution_count": 12
        }
      ]
    },
    {
      "cell_type": "markdown",
      "metadata": {
        "id": "eR32T0pez-Xm"
      },
      "source": [
        "## Converting text into numbers\n",
        "\n",
        "* Tokenization - directly mapping of token (a token could be a word or character) to number\n",
        "* Embedding - create a matrix of feature vector for each token (the size of the feature vector can be defined and this embedding can be learned)"
      ]
    },
    {
      "cell_type": "markdown",
      "metadata": {
        "id": "qv_RLYSo0tVz"
      },
      "source": [
        "### Text vectorization (tokenization)"
      ]
    },
    {
      "cell_type": "code",
      "metadata": {
        "id": "RW-h3118_djR"
      },
      "source": [
        "import tensorflow as tf\n",
        "from tensorflow.keras.layers.experimental.preprocessing import TextVectorization\n",
        "\n",
        "# Use the default TextVectorization parameters\n",
        "text_vectorizer = TextVectorization(max_tokens=10000, # how many words in the vocabulary\n",
        "                                    standardize=\"lower_and_strip_punctuation\",\n",
        "                                    split='whitespace',\n",
        "                                    ngrams=None, # create groups of n-words?\n",
        "                                    output_mode='int', # how to map tokens to numbers?\n",
        "                                    output_sequence_length=None, # how long do you want your sequences to be? (how many to pad)\n",
        "                                    pad_to_max_tokens=True\n",
        "                                    )"
      ],
      "execution_count": null,
      "outputs": []
    },
    {
      "cell_type": "code",
      "metadata": {
        "colab": {
          "base_uri": "https://localhost:8080/"
        },
        "id": "nxKc109WDpYf",
        "outputId": "54c1ae19-6ddf-4de1-dbff-20e1eb52ed1e"
      },
      "source": [
        "train_sentences[0].split(), len(train_sentences[0].split())"
      ],
      "execution_count": null,
      "outputs": [
        {
          "output_type": "execute_result",
          "data": {
            "text/plain": [
              "(['@mogacola', '@zamtriossu', 'i', 'screamed', 'after', 'hitting', 'tweet'], 7)"
            ]
          },
          "metadata": {},
          "execution_count": 14
        }
      ]
    },
    {
      "cell_type": "code",
      "metadata": {
        "colab": {
          "base_uri": "https://localhost:8080/"
        },
        "id": "ENZDzOT7_lVh",
        "outputId": "3f7bb95b-73be-4e51-8ce5-f9b25315f621"
      },
      "source": [
        "# Find the average number of tokens (words) in the training tweets\n",
        "round(sum([len(i.split()) for i in train_sentences]))/len(train_sentences)"
      ],
      "execution_count": null,
      "outputs": [
        {
          "output_type": "execute_result",
          "data": {
            "text/plain": [
              "14.901036345059115"
            ]
          },
          "metadata": {},
          "execution_count": 15
        }
      ]
    },
    {
      "cell_type": "code",
      "metadata": {
        "id": "8SKJPqFTD2Oj"
      },
      "source": [
        "# Set up text vectorization variables\n",
        "max_vocab_length = 10000 # max number of words to have in our vocabulary\n",
        "max_length = 15 # max length our sequences will be (how many words from our tweet does our model see)\n",
        "\n",
        "text_vectorizer = TextVectorization(max_tokens=max_vocab_length,\n",
        "                                    output_mode='int',\n",
        "                                    output_sequence_length=max_length)"
      ],
      "execution_count": null,
      "outputs": []
    },
    {
      "cell_type": "code",
      "metadata": {
        "id": "933fuHZOFdah"
      },
      "source": [
        "# Fit the text vectorizer to the training text\n",
        "# Adapt: fits the state of the preprocessing layer to the dataset\n",
        "text_vectorizer.adapt(train_sentences)"
      ],
      "execution_count": null,
      "outputs": []
    },
    {
      "cell_type": "code",
      "metadata": {
        "colab": {
          "base_uri": "https://localhost:8080/"
        },
        "id": "ovQXOkyThqBa",
        "outputId": "1932fd73-9dd8-4ace-bbc1-cfcbf03367a4"
      },
      "source": [
        "# Create a sample sentence and tokenize it\n",
        "sample_sentence = \"There's a flood in my street!\"\n",
        "text_vectorizer([sample_sentence])"
      ],
      "execution_count": null,
      "outputs": [
        {
          "output_type": "execute_result",
          "data": {
            "text/plain": [
              "<tf.Tensor: shape=(1, 15), dtype=int64, numpy=\n",
              "array([[264,   3, 232,   4,  13, 698,   0,   0,   0,   0,   0,   0,   0,\n",
              "          0,   0]])>"
            ]
          },
          "metadata": {},
          "execution_count": 18
        }
      ]
    },
    {
      "cell_type": "code",
      "metadata": {
        "colab": {
          "base_uri": "https://localhost:8080/"
        },
        "id": "BWbn_c7fh6Ke",
        "outputId": "3c3dcade-1d3c-44e0-e2b8-d3e6cc2faf3d"
      },
      "source": [
        "# Choose a random sentence from the training dataset and tokenize it\n",
        "random_sentence = random.choice(train_sentences)\n",
        "print(f\"Original text:\\n {random_sentence}\\\n",
        "      \\n\\nVectorized version:\")\n",
        "text_vectorizer([random_sentence])"
      ],
      "execution_count": null,
      "outputs": [
        {
          "output_type": "stream",
          "name": "stdout",
          "text": [
            "Original text:\n",
            " 11-Year-Old Boy Charged With Manslaughter of Toddler: Report: An 11-year-old boy has been charged with manslaughter over the fatal sh...      \n",
            "\n",
            "Vectorized version:\n"
          ]
        },
        {
          "output_type": "execute_result",
          "data": {
            "text/plain": [
              "<tf.Tensor: shape=(1, 15), dtype=int64, numpy=\n",
              "array([[752, 291, 333,  14, 702,   6, 803, 329,  39, 752, 291,  41,  59,\n",
              "        333,  14]])>"
            ]
          },
          "metadata": {},
          "execution_count": 19
        }
      ]
    },
    {
      "cell_type": "code",
      "metadata": {
        "colab": {
          "base_uri": "https://localhost:8080/"
        },
        "id": "pPglC4gWih0O",
        "outputId": "bf06dea3-d506-471c-8046-63c0b73ca45f"
      },
      "source": [
        "# Get the unique words in the vocabulary\n",
        "words_in_vocab = text_vectorizer.get_vocabulary() # get all of the unique words in our training data\n",
        "top_5_words = words_in_vocab[:5] # get the most common words\n",
        "bottom_5_words = words_in_vocab[-5:]\n",
        "print(f\"Number of words in vocab: {len(words_in_vocab)}\\n\")\n",
        "print(f\"5 most common words: {top_5_words}\\n\")\n",
        "print(f\"5 least common words: {bottom_5_words}\\n\")"
      ],
      "execution_count": null,
      "outputs": [
        {
          "output_type": "stream",
          "name": "stdout",
          "text": [
            "Number of words in vocab: 10000\n",
            "\n",
            "5 most common words: ['', '[UNK]', 'the', 'a', 'in']\n",
            "\n",
            "5 least common words: ['pages', 'paeds', 'pads', 'padres', 'paddytomlinson1']\n",
            "\n"
          ]
        }
      ]
    },
    {
      "cell_type": "markdown",
      "metadata": {
        "id": "x68MAdaQjUqR"
      },
      "source": [
        "### Creating an Embedding using an Embedding Layer\n",
        "\n",
        "Turns positive integers into dense vector of fixed size\n",
        "\n",
        "Parameters:\n",
        "* `input_dim` = size of our vocabulary\n",
        "* `output_dim` = size of the outptu embedding vector\n",
        "* `input_length` = length of the sequences being passes to the embedding layer"
      ]
    },
    {
      "cell_type": "code",
      "metadata": {
        "id": "wnW760xykMVL"
      },
      "source": [
        "from tensorflow.keras import layers\n",
        "\n",
        "embedding = layers.Embedding(input_dim=max_vocab_length, # set input shape\n",
        "                             output_dim = 128, # output shape\n",
        "                             input_length = max_length # how long is each input\n",
        "                             )"
      ],
      "execution_count": null,
      "outputs": []
    },
    {
      "cell_type": "code",
      "metadata": {
        "colab": {
          "base_uri": "https://localhost:8080/"
        },
        "id": "2CzAMsjXlZ8A",
        "outputId": "f6e376e7-0df9-4dcb-8083-890d884fd880"
      },
      "source": [
        "# Get a random sentence from the training set\n",
        "random_sentence = random.choice(train_sentences)\n",
        "print(f'Original text:\\n {random_sentence}\\\n",
        "      \\n\\nEmbedded version:')\n",
        "\n",
        "sample_embed = embedding(text_vectorizer([random_sentence])) # [1,15,128] = 1 sequence, 15 padded, 128 long vector\n",
        "sample_embed # dense vector representation"
      ],
      "execution_count": null,
      "outputs": [
        {
          "output_type": "stream",
          "name": "stdout",
          "text": [
            "Original text:\n",
            " I cant believe a fucking cis female is going to somehow claim to be offended over a transgendered female who's been attacked by media      \n",
            "\n",
            "Embedded version:\n"
          ]
        },
        {
          "output_type": "execute_result",
          "data": {
            "text/plain": [
              "<tf.Tensor: shape=(1, 15, 128), dtype=float32, numpy=\n",
              "array([[[ 0.03762127, -0.01651801,  0.04880837, ...,  0.04434573,\n",
              "         -0.03407369,  0.01307751],\n",
              "        [-0.0196559 ,  0.02027244,  0.03012328, ...,  0.01301937,\n",
              "          0.00697486,  0.04834408],\n",
              "        [ 0.00500088, -0.03101748,  0.02713051, ..., -0.04175718,\n",
              "          0.03010941,  0.01414772],\n",
              "        ...,\n",
              "        [-0.01521854, -0.02608641,  0.01824272, ..., -0.02582508,\n",
              "          0.01311656,  0.01786089],\n",
              "        [-0.04256646,  0.01835806,  0.02246625, ..., -0.03849623,\n",
              "          0.02003906,  0.02794851],\n",
              "        [-0.01654172, -0.01750445, -0.01137669, ...,  0.00388636,\n",
              "          0.042502  , -0.02036813]]], dtype=float32)>"
            ]
          },
          "metadata": {},
          "execution_count": 22
        }
      ]
    },
    {
      "cell_type": "code",
      "metadata": {
        "colab": {
          "base_uri": "https://localhost:8080/"
        },
        "id": "TeTcRfNSl3ak",
        "outputId": "a704b7a7-5822-4fd6-f232-76fa87c00d79"
      },
      "source": [
        "# Check out a single token's embedding (one word)\n",
        "sample_embed[0][0], sample_embed[0][0].shape, random_sentence"
      ],
      "execution_count": null,
      "outputs": [
        {
          "output_type": "execute_result",
          "data": {
            "text/plain": [
              "(<tf.Tensor: shape=(128,), dtype=float32, numpy=\n",
              " array([ 0.03762127, -0.01651801,  0.04880837, -0.0170083 ,  0.02609013,\n",
              "         0.00719932, -0.02368572, -0.03820945,  0.02187184,  0.03347642,\n",
              "         0.00759178,  0.01553196, -0.02553898,  0.03516709,  0.03143393,\n",
              "        -0.01468242, -0.04181622, -0.01437849,  0.00866214, -0.04875274,\n",
              "        -0.0493117 ,  0.00132048,  0.00619035,  0.02383083,  0.01212974,\n",
              "         0.02371517,  0.01212264, -0.01729411,  0.04951266, -0.03600259,\n",
              "         0.01262272,  0.03635347,  0.01662164, -0.01874715,  0.00068422,\n",
              "        -0.01663432,  0.00733873, -0.01164355, -0.01906751,  0.04675234,\n",
              "         0.01942735, -0.04124886,  0.01240341,  0.0156318 ,  0.01386664,\n",
              "         0.00118638, -0.04293784,  0.03374252, -0.02120674, -0.02673447,\n",
              "        -0.04299641, -0.0442219 ,  0.04765045,  0.01935503,  0.0035492 ,\n",
              "         0.0398146 ,  0.01101396,  0.02272042,  0.00432156, -0.00232842,\n",
              "        -0.04554498, -0.03916575,  0.03914874, -0.00882591,  0.01942542,\n",
              "        -0.04583525,  0.03671381,  0.00971755, -0.04563855,  0.02057476,\n",
              "         0.00403291,  0.04840458,  0.03746216,  0.03997474,  0.04156791,\n",
              "        -0.01567549,  0.04133097, -0.00135623, -0.00089812, -0.04417283,\n",
              "        -0.03405298, -0.04000191,  0.00041867, -0.01077511, -0.04141837,\n",
              "         0.0326007 ,  0.04800591, -0.01665461, -0.02428949, -0.02659759,\n",
              "        -0.04239873,  0.0215341 ,  0.00047934, -0.03144268,  0.03358218,\n",
              "         0.02708289,  0.04184008, -0.02719622,  0.04044433, -0.01999389,\n",
              "         0.04723286, -0.0020755 , -0.01275401, -0.01242686,  0.01407465,\n",
              "        -0.00620935,  0.03171376, -0.00938519,  0.03364997, -0.0371257 ,\n",
              "        -0.03132083, -0.03591301,  0.00778916, -0.01074014, -0.04495108,\n",
              "         0.00336468,  0.00740473, -0.0267853 , -0.02147994, -0.0054682 ,\n",
              "         0.03438072, -0.00865772,  0.0230868 ,  0.00584567, -0.01671626,\n",
              "         0.04434573, -0.03407369,  0.01307751], dtype=float32)>,\n",
              " TensorShape([128]),\n",
              " \"I cant believe a fucking cis female is going to somehow claim to be offended over a transgendered female who's been attacked by media\")"
            ]
          },
          "metadata": {},
          "execution_count": 23
        }
      ]
    },
    {
      "cell_type": "markdown",
      "metadata": {
        "id": "g9GROD94mZ__"
      },
      "source": [
        "## Modelling a text dataset (running a series of experiment)\n",
        "\n",
        "* Model 0: Naive Bayes (baseline)\n",
        "* Model 1: Feed-forward neural network (dense model)\n",
        "* Model 2: LSTM model (RNN)\n",
        "* Model 3: GRU model (RNN)\n",
        "* Model 4: Bidirectional-LSTM model (RNN)\n",
        "* Model 5: 1D Convolutional Neural Network (CNN)\n",
        "* Model 6: TensorFlow Hub Pretrained Feature Extractor (Transfer Learning)\n",
        "* Model 7: Same as model 6 with 10% of training data\n",
        "\n",
        "Approach steps:\n",
        "* Create a model\n",
        "* Build a model\n",
        "* Fit a model\n",
        "* Evaluate our model"
      ]
    },
    {
      "cell_type": "markdown",
      "metadata": {
        "id": "XGnFUa8chpFD"
      },
      "source": [
        "### Create an evaluation function for our model experiments\n",
        "Metrics:\n",
        "* Accuracy\n",
        "* Precision\n",
        "* Recall\n",
        "* F1-score"
      ]
    },
    {
      "cell_type": "code",
      "metadata": {
        "id": "mWSsQVptwGAm"
      },
      "source": [
        "# Function to evaluate: accuracy, precision, recall, f1-score\n",
        "from sklearn.metrics import accuracy_score, precision_recall_fscore_support\n",
        "\n",
        "def calculate_results(y_true, y_pred):\n",
        "  \"\"\"\n",
        "  Calculates model accuracy, precision, recall, and f1 score of a binary classification model\n",
        "  \"\"\"\n",
        "  # Calculate model accuracy\n",
        "  model_acc = accuracy_score(y_true, y_pred)\n",
        "\n",
        "  # calculate model precision, recall, f1-score using \"weighted\" average \n",
        "  # f1-score is weighted by the number of example in each class --> for imbalanced label\n",
        "  model_precision, model_recall, model_f1, _ = precision_recall_fscore_support(y_true, y_pred, average='weighted')\n",
        "\n",
        "  model_results = {'accuracy': model_acc,\n",
        "                   'precision': model_precision,\n",
        "                   'recall': model_recall,\n",
        "                   'f1': model_f1}\n",
        "\n",
        "  return model_results"
      ],
      "execution_count": null,
      "outputs": []
    },
    {
      "cell_type": "markdown",
      "metadata": {
        "id": "jFekw_YHNLjf"
      },
      "source": [
        "### Model 0: Getting a baseline\n",
        "Sklearn's Multinomial Naive Bayes using TF-IDF to convert words to number\n",
        "* Its is common practice to use non deep learning model as baseline for their speed then later using deep learning to see if you can improve upon them"
      ]
    },
    {
      "cell_type": "code",
      "metadata": {
        "id": "8SKIfZBGRXhL",
        "colab": {
          "base_uri": "https://localhost:8080/"
        },
        "outputId": "1d3a511d-d6e9-43fc-ec16-008922b5f7c3"
      },
      "source": [
        "from sklearn.feature_extraction.text import TfidfVectorizer\n",
        "from sklearn.naive_bayes import MultinomialNB\n",
        "from sklearn.pipeline import Pipeline\n",
        "\n",
        "# Create tokenization and modelling pipeline\n",
        "model_0 = Pipeline([\n",
        "                    ('tfidf', TfidfVectorizer()), # convert words to numbers using tfidf\n",
        "                    ('clf', MultinomialNB()) # model\n",
        "])\n",
        "\n",
        "# Fit the pipeline to training data\n",
        "model_0.fit(train_sentences, train_labels)"
      ],
      "execution_count": null,
      "outputs": [
        {
          "output_type": "execute_result",
          "data": {
            "text/plain": [
              "Pipeline(memory=None,\n",
              "         steps=[('tfidf',\n",
              "                 TfidfVectorizer(analyzer='word', binary=False,\n",
              "                                 decode_error='strict',\n",
              "                                 dtype=<class 'numpy.float64'>,\n",
              "                                 encoding='utf-8', input='content',\n",
              "                                 lowercase=True, max_df=1.0, max_features=None,\n",
              "                                 min_df=1, ngram_range=(1, 1), norm='l2',\n",
              "                                 preprocessor=None, smooth_idf=True,\n",
              "                                 stop_words=None, strip_accents=None,\n",
              "                                 sublinear_tf=False,\n",
              "                                 token_pattern='(?u)\\\\b\\\\w\\\\w+\\\\b',\n",
              "                                 tokenizer=None, use_idf=True,\n",
              "                                 vocabulary=None)),\n",
              "                ('clf',\n",
              "                 MultinomialNB(alpha=1.0, class_prior=None, fit_prior=True))],\n",
              "         verbose=False)"
            ]
          },
          "metadata": {},
          "execution_count": 25
        }
      ]
    },
    {
      "cell_type": "code",
      "metadata": {
        "id": "Ago6RgcDSAYy",
        "colab": {
          "base_uri": "https://localhost:8080/"
        },
        "outputId": "3f75c6c6-39c8-4f26-ad5b-cd166e370533"
      },
      "source": [
        "# Evaluate our baseline model\n",
        "baseline_score = model_0.score(val_sentences, val_labels) # same as model.evaluate for tf\n",
        "print(f'Our baseline model achieves an accuracy of: {baseline_score*100:.2f} %')"
      ],
      "execution_count": null,
      "outputs": [
        {
          "output_type": "stream",
          "name": "stdout",
          "text": [
            "Our baseline model achieves an accuracy of: 79.27 %\n"
          ]
        }
      ]
    },
    {
      "cell_type": "code",
      "metadata": {
        "colab": {
          "base_uri": "https://localhost:8080/"
        },
        "id": "n5aSXfy3f78h",
        "outputId": "948e3473-15ea-44d8-cf1a-8eff7703267f"
      },
      "source": [
        "train_df.target.value_counts()[1]*100/(train_df.target.value_counts()[0]+train_df.target.value_counts()[1])"
      ],
      "execution_count": null,
      "outputs": [
        {
          "output_type": "execute_result",
          "data": {
            "text/plain": [
              "42.965979246026535"
            ]
          },
          "metadata": {},
          "execution_count": 27
        }
      ]
    },
    {
      "cell_type": "code",
      "metadata": {
        "colab": {
          "base_uri": "https://localhost:8080/"
        },
        "id": "2jyCveNZgP4V",
        "outputId": "0dc3922c-d1bb-48b2-f3b6-3bb9079df48e"
      },
      "source": [
        "# Make predictions\n",
        "baseline_preds = model_0.predict(val_sentences)\n",
        "baseline_preds[:20], val_labels[:20]"
      ],
      "execution_count": null,
      "outputs": [
        {
          "output_type": "execute_result",
          "data": {
            "text/plain": [
              "(array([1, 1, 1, 0, 0, 1, 1, 1, 1, 0, 0, 1, 0, 0, 0, 0, 0, 0, 0, 1]),\n",
              " array([0, 0, 1, 1, 1, 1, 1, 1, 1, 0, 0, 0, 0, 0, 0, 0, 0, 0, 1, 0]))"
            ]
          },
          "metadata": {},
          "execution_count": 28
        }
      ]
    },
    {
      "cell_type": "code",
      "metadata": {
        "colab": {
          "base_uri": "https://localhost:8080/"
        },
        "id": "8Pv_yW8Czygu",
        "outputId": "195f4ffc-b60e-48b0-d009-7d846076792f"
      },
      "source": [
        "# Get baseline results\n",
        "baseline_results = calculate_results(y_true = val_labels, y_pred = baseline_preds)\n",
        "baseline_results"
      ],
      "execution_count": null,
      "outputs": [
        {
          "output_type": "execute_result",
          "data": {
            "text/plain": [
              "{'accuracy': 0.7926509186351706,\n",
              " 'f1': 0.7862189758049549,\n",
              " 'precision': 0.8111390004213173,\n",
              " 'recall': 0.7926509186351706}"
            ]
          },
          "metadata": {},
          "execution_count": 29
        }
      ]
    },
    {
      "cell_type": "markdown",
      "metadata": {
        "id": "3wXgiGz_yqeA"
      },
      "source": [
        "### Model 1: Feed-forward neural network (dense model)"
      ]
    },
    {
      "cell_type": "code",
      "metadata": {
        "id": "WXRAQuVMztMR"
      },
      "source": [
        "# Create a tensorboard callback\n",
        "from helper_functions import create_tensorboard_callback\n",
        "\n",
        "# Create a directory to save TensorBoard Logs\n",
        "save_dir = 'model_logs'"
      ],
      "execution_count": null,
      "outputs": []
    },
    {
      "cell_type": "code",
      "metadata": {
        "id": "I_BpuVgs0M3A"
      },
      "source": [
        "# Build model with Functional API\n",
        "from tensorflow.keras import layers\n",
        "\n",
        "inputs = layers.Input(shape=(1,), dtype=tf.string) # inputs are 1D strings\n",
        "x = text_vectorizer(inputs) # turn the input text into numbers\n",
        "x = embedding(x) # create an embedding of the numberized inputs\n",
        "x = layers.GlobalAveragePooling1D()(x) # condense the feature vector for each token(word) to one vector\n",
        "outputs = layers.Dense(1, activation='sigmoid')(x) # create the output layer, want binary outputs so use sigmoid activation function\n",
        "model_1 = tf.keras.Model(inputs, outputs, name='model_1_dense')"
      ],
      "execution_count": null,
      "outputs": []
    },
    {
      "cell_type": "code",
      "metadata": {
        "colab": {
          "base_uri": "https://localhost:8080/"
        },
        "id": "hyowpkk41M6q",
        "outputId": "7a87d799-5948-4b14-82e1-749e7bfccd5b"
      },
      "source": [
        "model_1.summary()"
      ],
      "execution_count": null,
      "outputs": [
        {
          "output_type": "stream",
          "name": "stdout",
          "text": [
            "Model: \"model_1_dense\"\n",
            "_________________________________________________________________\n",
            "Layer (type)                 Output Shape              Param #   \n",
            "=================================================================\n",
            "input_1 (InputLayer)         [(None, 1)]               0         \n",
            "_________________________________________________________________\n",
            "text_vectorization_1 (TextVe (None, 15)                0         \n",
            "_________________________________________________________________\n",
            "embedding (Embedding)        (None, 15, 128)           1280000   \n",
            "_________________________________________________________________\n",
            "global_average_pooling1d (Gl (None, 128)               0         \n",
            "_________________________________________________________________\n",
            "dense (Dense)                (None, 1)                 129       \n",
            "=================================================================\n",
            "Total params: 1,280,129\n",
            "Trainable params: 1,280,129\n",
            "Non-trainable params: 0\n",
            "_________________________________________________________________\n"
          ]
        }
      ]
    },
    {
      "cell_type": "code",
      "metadata": {
        "id": "5La-xriD1OFz"
      },
      "source": [
        "# Compile model\n",
        "model_1.compile(loss='binary_crossentropy',\n",
        "                optimizer=tf.keras.optimizers.Adam(),\n",
        "                metrics=['accuracy'])"
      ],
      "execution_count": null,
      "outputs": []
    },
    {
      "cell_type": "code",
      "metadata": {
        "colab": {
          "base_uri": "https://localhost:8080/"
        },
        "id": "RMDWFAx51mX-",
        "outputId": "f60cc703-e601-45b9-db2f-6c79b89517a0"
      },
      "source": [
        "# Fit the model\n",
        "model_1_history = model_1.fit(x = train_sentences, y = train_labels,\n",
        "                              epochs=5,\n",
        "                              validation_data = (val_sentences,val_labels),\n",
        "                              callbacks=[create_tensorboard_callback(dir_name=save_dir,\n",
        "                                                                     experiment_name='model_1_dense')])"
      ],
      "execution_count": null,
      "outputs": [
        {
          "output_type": "stream",
          "name": "stdout",
          "text": [
            "Saving TensorBoard log files to: model_logs/model_1_dense/20211001-041501\n",
            "Epoch 1/5\n",
            "215/215 [==============================] - 3s 6ms/step - loss: 0.6101 - accuracy: 0.6900 - val_loss: 0.5358 - val_accuracy: 0.7546\n",
            "Epoch 2/5\n",
            "215/215 [==============================] - 1s 4ms/step - loss: 0.4407 - accuracy: 0.8178 - val_loss: 0.4729 - val_accuracy: 0.7861\n",
            "Epoch 3/5\n",
            "215/215 [==============================] - 1s 4ms/step - loss: 0.3455 - accuracy: 0.8609 - val_loss: 0.4554 - val_accuracy: 0.7861\n",
            "Epoch 4/5\n",
            "215/215 [==============================] - 1s 4ms/step - loss: 0.2838 - accuracy: 0.8898 - val_loss: 0.4627 - val_accuracy: 0.7861\n",
            "Epoch 5/5\n",
            "215/215 [==============================] - 1s 4ms/step - loss: 0.2367 - accuracy: 0.9126 - val_loss: 0.4816 - val_accuracy: 0.7835\n"
          ]
        }
      ]
    },
    {
      "cell_type": "code",
      "metadata": {
        "colab": {
          "base_uri": "https://localhost:8080/"
        },
        "id": "zokZfDei2HSJ",
        "outputId": "74cf82ad-7b2f-4ee8-9b36-32997c5885e4"
      },
      "source": [
        "# Check the results\n",
        "model_1.evaluate(val_sentences, val_labels)"
      ],
      "execution_count": null,
      "outputs": [
        {
          "output_type": "stream",
          "name": "stdout",
          "text": [
            "24/24 [==============================] - 0s 3ms/step - loss: 0.4816 - accuracy: 0.7835\n"
          ]
        },
        {
          "output_type": "execute_result",
          "data": {
            "text/plain": [
              "[0.48159298300743103, 0.7834645509719849]"
            ]
          },
          "metadata": {},
          "execution_count": 35
        }
      ]
    },
    {
      "cell_type": "code",
      "metadata": {
        "colab": {
          "base_uri": "https://localhost:8080/"
        },
        "id": "eQUFsvDB2Sai",
        "outputId": "0dde2c34-a6fb-4442-926b-7a0566d9b444"
      },
      "source": [
        "# Make predictions and evaluate\n",
        "model_1_pred_probs = model_1.predict(val_sentences)\n",
        "model_1_pred_probs.shape, model_1_pred_probs[0]"
      ],
      "execution_count": null,
      "outputs": [
        {
          "output_type": "execute_result",
          "data": {
            "text/plain": [
              "((762, 1), array([0.519063], dtype=float32))"
            ]
          },
          "metadata": {},
          "execution_count": 36
        }
      ]
    },
    {
      "cell_type": "code",
      "metadata": {
        "colab": {
          "base_uri": "https://localhost:8080/"
        },
        "id": "Xd1HtLhA2a4d",
        "outputId": "52122ec1-0cb8-4f2a-ab01-0e298b4b63d7"
      },
      "source": [
        "# Convert model prediction probabilities to label format\n",
        "model_1_preds = tf.squeeze(tf.round(model_1_pred_probs))\n",
        "model_1_preds[:10]"
      ],
      "execution_count": null,
      "outputs": [
        {
          "output_type": "execute_result",
          "data": {
            "text/plain": [
              "<tf.Tensor: shape=(10,), dtype=float32, numpy=array([1., 1., 1., 0., 0., 1., 1., 1., 1., 0.], dtype=float32)>"
            ]
          },
          "metadata": {},
          "execution_count": 37
        }
      ]
    },
    {
      "cell_type": "code",
      "metadata": {
        "colab": {
          "base_uri": "https://localhost:8080/"
        },
        "id": "Ey37--Ub4MJM",
        "outputId": "3ea6ed30-12e3-4157-95ba-18a0b1433535"
      },
      "source": [
        "# Calculate our model_1 results\n",
        "model_1_results = calculate_results(y_true=val_labels,\n",
        "                                    y_pred=model_1_preds)\n",
        "model_1_results"
      ],
      "execution_count": null,
      "outputs": [
        {
          "output_type": "execute_result",
          "data": {
            "text/plain": [
              "{'accuracy': 0.7834645669291339,\n",
              " 'f1': 0.7824209432600286,\n",
              " 'precision': 0.7836851298574339,\n",
              " 'recall': 0.7834645669291339}"
            ]
          },
          "metadata": {},
          "execution_count": 38
        }
      ]
    },
    {
      "cell_type": "code",
      "metadata": {
        "colab": {
          "base_uri": "https://localhost:8080/"
        },
        "id": "oIXQyIlc4XJj",
        "outputId": "dd37dbb2-9d5e-45fc-b8b9-313b058f22e4"
      },
      "source": [
        "import numpy as np\n",
        "np.array(list(model_1_results.values())) > np.array(list(baseline_results.values()))"
      ],
      "execution_count": null,
      "outputs": [
        {
          "output_type": "execute_result",
          "data": {
            "text/plain": [
              "array([False, False, False, False])"
            ]
          },
          "metadata": {},
          "execution_count": 39
        }
      ]
    },
    {
      "cell_type": "markdown",
      "metadata": {
        "id": "rkGXYYYb4qoY"
      },
      "source": [
        "### Visualizing Learned embedding"
      ]
    },
    {
      "cell_type": "code",
      "metadata": {
        "colab": {
          "base_uri": "https://localhost:8080/"
        },
        "id": "Yp8UTSQ67IrU",
        "outputId": "932bfbe6-70e8-4d33-a4cd-f52d2a31b523"
      },
      "source": [
        "# Get the vocabulary from the text vectorization layer\n",
        "words_in_vocab = text_vectorizer.get_vocabulary()\n",
        "len(words_in_vocab), words_in_vocab[:10]"
      ],
      "execution_count": null,
      "outputs": [
        {
          "output_type": "execute_result",
          "data": {
            "text/plain": [
              "(10000, ['', '[UNK]', 'the', 'a', 'in', 'to', 'of', 'and', 'i', 'is'])"
            ]
          },
          "metadata": {},
          "execution_count": 40
        }
      ]
    },
    {
      "cell_type": "code",
      "metadata": {
        "colab": {
          "base_uri": "https://localhost:8080/"
        },
        "id": "AiZOgObQ7Phm",
        "outputId": "8ada9452-e8b8-423d-8f5d-af69571e30fc"
      },
      "source": [
        "model_1.summary()"
      ],
      "execution_count": null,
      "outputs": [
        {
          "output_type": "stream",
          "name": "stdout",
          "text": [
            "Model: \"model_1_dense\"\n",
            "_________________________________________________________________\n",
            "Layer (type)                 Output Shape              Param #   \n",
            "=================================================================\n",
            "input_1 (InputLayer)         [(None, 1)]               0         \n",
            "_________________________________________________________________\n",
            "text_vectorization_1 (TextVe (None, 15)                0         \n",
            "_________________________________________________________________\n",
            "embedding (Embedding)        (None, 15, 128)           1280000   \n",
            "_________________________________________________________________\n",
            "global_average_pooling1d (Gl (None, 128)               0         \n",
            "_________________________________________________________________\n",
            "dense (Dense)                (None, 1)                 129       \n",
            "=================================================================\n",
            "Total params: 1,280,129\n",
            "Trainable params: 1,280,129\n",
            "Non-trainable params: 0\n",
            "_________________________________________________________________\n"
          ]
        }
      ]
    },
    {
      "cell_type": "code",
      "metadata": {
        "colab": {
          "base_uri": "https://localhost:8080/"
        },
        "id": "yIw7Ye-A7gOd",
        "outputId": "c18db2dd-79da-4f1b-f375-bf929188bef2"
      },
      "source": [
        "# Get the weight matrix of embedding layer\n",
        "# these are the numerical represenations of each otken in our training data which has been learned for 5 epochs\n",
        "embed_weights = model_1.get_layer('embedding').get_weights()[0] # first token\n",
        "embed_weights, embed_weights.shape"
      ],
      "execution_count": null,
      "outputs": [
        {
          "output_type": "execute_result",
          "data": {
            "text/plain": [
              "(array([[-0.01286315,  0.00953334, -0.05741997, ...,  0.01049018,\n",
              "         -0.01092171,  0.00567942],\n",
              "        [-0.00977476, -0.01117035, -0.00536528, ..., -0.00302155,\n",
              "          0.0326952 , -0.01279187],\n",
              "        [ 0.01167962, -0.02433416,  0.0423678 , ..., -0.03709293,\n",
              "          0.01083209,  0.04421689],\n",
              "        ...,\n",
              "        [-0.04919887, -0.00241661,  0.00216042, ...,  0.01568567,\n",
              "          0.00817674,  0.02990272],\n",
              "        [-0.08501812, -0.03127741, -0.02542929, ..., -0.00184351,\n",
              "          0.08764187,  0.00614096],\n",
              "        [-0.02742395, -0.02011534, -0.07207949, ...,  0.11228761,\n",
              "          0.11240398, -0.11457641]], dtype=float32), (10000, 128))"
            ]
          },
          "metadata": {},
          "execution_count": 42
        }
      ]
    },
    {
      "cell_type": "markdown",
      "metadata": {
        "id": "o3UK_njOWwie"
      },
      "source": [
        "### Embedding projector"
      ]
    },
    {
      "cell_type": "code",
      "metadata": {
        "id": "NIV7lfEh7zsB"
      },
      "source": [
        "# Create embedding files\n",
        "# import io\n",
        "# out_v = io.open('vectors.tsv', 'w', encoding='utf-8')\n",
        "# out_m = io.open('metadata.tsv', 'w', encoding='utf-8')\n",
        "\n",
        "# for index, word in enumerate(words_in_vocab):\n",
        "#   if index == 0:\n",
        "#     continue  # skip 0, it's padding.\n",
        "#   vec = embed_weights[index]\n",
        "#   out_v.write('\\t'.join([str(x) for x in vec]) + \"\\n\")\n",
        "#   out_m.write(word + \"\\n\")\n",
        "# out_v.close()\n",
        "# out_m.close()"
      ],
      "execution_count": null,
      "outputs": []
    },
    {
      "cell_type": "code",
      "metadata": {
        "id": "yw7Ytl-z_BdN"
      },
      "source": [
        "# Download files from colab\n",
        "# try:\n",
        "#   from google.colab import files\n",
        "#   files.download('vectors.tsv')\n",
        "#   files.download('metadata.tsv')\n",
        "# except Exception:\n",
        "#   pass"
      ],
      "execution_count": null,
      "outputs": []
    },
    {
      "cell_type": "markdown",
      "metadata": {
        "id": "ZVLMuzVyA7Mh"
      },
      "source": [
        "## Recurrent Neural Network\n",
        "\n",
        "RNN's are useful for sequence data"
      ]
    },
    {
      "cell_type": "markdown",
      "metadata": {
        "id": "WR_sxqvf8jEZ"
      },
      "source": [
        "### Model 2: LSTM (Long short term memory)"
      ]
    },
    {
      "cell_type": "code",
      "metadata": {
        "id": "bL-fjaKoCuil"
      },
      "source": [
        "# Create an LSTM model\n",
        "from tensorflow.keras import layers\n",
        "inputs = layers.Input(shape=(1,), dtype='string')\n",
        "x = text_vectorizer(inputs)\n",
        "x = embedding(x)\n",
        "x = layers.LSTM(64, return_sequences=True)(x) # When stacking RNN cells together, you need to return_sequences=True -> output gives 3D vector [batch, timesteps, feature]\n",
        "x = layers.LSTM(64)(x) # Hidden layers = 64, output gives 2D vector [batch, feature]\n",
        "x = layers.Dense(64, activation='relu')(x)\n",
        "outputs = layers.Dense(1, activation='sigmoid')(x)\n",
        "model_2 = tf.keras.Model(inputs,outputs, name='model_2_LSTM')"
      ],
      "execution_count": null,
      "outputs": []
    },
    {
      "cell_type": "code",
      "metadata": {
        "colab": {
          "base_uri": "https://localhost:8080/"
        },
        "id": "AUT7VvfoHC4q",
        "outputId": "7d80c3e1-62bb-419f-855c-6ad91c797463"
      },
      "source": [
        "model_2.summary()"
      ],
      "execution_count": null,
      "outputs": [
        {
          "output_type": "stream",
          "name": "stdout",
          "text": [
            "Model: \"model_2_LSTM\"\n",
            "_________________________________________________________________\n",
            "Layer (type)                 Output Shape              Param #   \n",
            "=================================================================\n",
            "input_2 (InputLayer)         [(None, 1)]               0         \n",
            "_________________________________________________________________\n",
            "text_vectorization_1 (TextVe (None, 15)                0         \n",
            "_________________________________________________________________\n",
            "embedding (Embedding)        (None, 15, 128)           1280000   \n",
            "_________________________________________________________________\n",
            "lstm (LSTM)                  (None, 15, 64)            49408     \n",
            "_________________________________________________________________\n",
            "lstm_1 (LSTM)                (None, 64)                33024     \n",
            "_________________________________________________________________\n",
            "dense_1 (Dense)              (None, 64)                4160      \n",
            "_________________________________________________________________\n",
            "dense_2 (Dense)              (None, 1)                 65        \n",
            "=================================================================\n",
            "Total params: 1,366,657\n",
            "Trainable params: 1,366,657\n",
            "Non-trainable params: 0\n",
            "_________________________________________________________________\n"
          ]
        }
      ]
    },
    {
      "cell_type": "code",
      "metadata": {
        "id": "wwVc9tocHXvN"
      },
      "source": [
        "# Compile the model\n",
        "model_2.compile(loss='binary_crossentropy',\n",
        "                optimizer=tf.keras.optimizers.Adam(),\n",
        "                metrics=['accuracy'])"
      ],
      "execution_count": null,
      "outputs": []
    },
    {
      "cell_type": "code",
      "metadata": {
        "colab": {
          "base_uri": "https://localhost:8080/"
        },
        "id": "TzcC_I_LJPEf",
        "outputId": "03338bf7-7510-486c-9c5d-9290fc3c7d81"
      },
      "source": [
        "# Fit the model\n",
        "model_2_history = model_2.fit(train_sentences, train_labels,\n",
        "                              epochs=5,\n",
        "                              validation_data = (val_sentences, val_labels),\n",
        "                              callbacks=[create_tensorboard_callback(save_dir,\n",
        "                                                                     'model_2_LSTM')])"
      ],
      "execution_count": null,
      "outputs": [
        {
          "output_type": "stream",
          "name": "stdout",
          "text": [
            "Saving TensorBoard log files to: model_logs/model_2_LSTM/20211001-041513\n",
            "Epoch 1/5\n",
            "215/215 [==============================] - 6s 12ms/step - loss: 0.2248 - accuracy: 0.9238 - val_loss: 0.5650 - val_accuracy: 0.7690\n",
            "Epoch 2/5\n",
            "215/215 [==============================] - 1s 7ms/step - loss: 0.1606 - accuracy: 0.9388 - val_loss: 0.6579 - val_accuracy: 0.7743\n",
            "Epoch 3/5\n",
            "215/215 [==============================] - 1s 7ms/step - loss: 0.1311 - accuracy: 0.9514 - val_loss: 0.7496 - val_accuracy: 0.7822\n",
            "Epoch 4/5\n",
            "215/215 [==============================] - 2s 7ms/step - loss: 0.1026 - accuracy: 0.9613 - val_loss: 1.0909 - val_accuracy: 0.7717\n",
            "Epoch 5/5\n",
            "215/215 [==============================] - 1s 6ms/step - loss: 0.0805 - accuracy: 0.9672 - val_loss: 0.9955 - val_accuracy: 0.7861\n"
          ]
        }
      ]
    },
    {
      "cell_type": "code",
      "metadata": {
        "colab": {
          "base_uri": "https://localhost:8080/"
        },
        "id": "DnBlUszUJhxS",
        "outputId": "1fd972a8-781b-4c68-abd5-e797ea389ae5"
      },
      "source": [
        "# Make predictions with LSTM model\n",
        "model_2_pred_probs = model_2.predict(val_sentences)\n",
        "model_2_pred_probs[:10], model_2_pred_probs.shape"
      ],
      "execution_count": null,
      "outputs": [
        {
          "output_type": "execute_result",
          "data": {
            "text/plain": [
              "(array([[1.8008165e-02],\n",
              "        [8.0417126e-01],\n",
              "        [9.9997282e-01],\n",
              "        [1.8165284e-01],\n",
              "        [9.4079391e-05],\n",
              "        [9.9983740e-01],\n",
              "        [9.6497494e-01],\n",
              "        [9.9998116e-01],\n",
              "        [9.9996424e-01],\n",
              "        [4.4559672e-01]], dtype=float32), (762, 1))"
            ]
          },
          "metadata": {},
          "execution_count": 49
        }
      ]
    },
    {
      "cell_type": "code",
      "metadata": {
        "colab": {
          "base_uri": "https://localhost:8080/"
        },
        "id": "Ze5FPmcMJv6u",
        "outputId": "752294f5-b7cc-4a9a-f50f-f35546d41b2e"
      },
      "source": [
        "# Convert model 2 pred probs to labels\n",
        "model_2_preds = tf.squeeze(tf.round(model_2_pred_probs))\n",
        "model_2_preds[:10]"
      ],
      "execution_count": null,
      "outputs": [
        {
          "output_type": "execute_result",
          "data": {
            "text/plain": [
              "<tf.Tensor: shape=(10,), dtype=float32, numpy=array([0., 1., 1., 0., 0., 1., 1., 1., 1., 0.], dtype=float32)>"
            ]
          },
          "metadata": {},
          "execution_count": 50
        }
      ]
    },
    {
      "cell_type": "code",
      "metadata": {
        "colab": {
          "base_uri": "https://localhost:8080/"
        },
        "id": "3vs9jBVuKR2U",
        "outputId": "2e30b763-5c5e-4f90-8938-5dd7fb6a2c39"
      },
      "source": [
        "# Calculate model 2 results\n",
        "model_2_results = calculate_results(y_true=val_labels,\n",
        "                                    y_pred = model_2_preds)\n",
        "model_2_results, baseline_results"
      ],
      "execution_count": null,
      "outputs": [
        {
          "output_type": "execute_result",
          "data": {
            "text/plain": [
              "({'accuracy': 0.7860892388451444,\n",
              "  'f1': 0.7850582651599072,\n",
              "  'precision': 0.7863431959164349,\n",
              "  'recall': 0.7860892388451444},\n",
              " {'accuracy': 0.7926509186351706,\n",
              "  'f1': 0.7862189758049549,\n",
              "  'precision': 0.8111390004213173,\n",
              "  'recall': 0.7926509186351706})"
            ]
          },
          "metadata": {},
          "execution_count": 51
        }
      ]
    },
    {
      "cell_type": "markdown",
      "metadata": {
        "id": "3ams6dPHKgYu"
      },
      "source": [
        "### Model 3: GRU\n",
        "\n",
        "Another popular and effective RNN component is the GRU or gated recurrent unit"
      ]
    },
    {
      "cell_type": "code",
      "metadata": {
        "id": "2lPUZWx4LOfx"
      },
      "source": [
        "# Build an RNN using GRU layer\n",
        "from tensorflow.keras import layers\n",
        "inputs = layers.Input(shape=(1,), dtype='string')\n",
        "x = text_vectorizer(inputs)\n",
        "x = embedding(x)\n",
        "x = layers.GRU(64, return_sequences=True)(x)\n",
        "x = layers.LSTM(64, return_sequences=True)(x)\n",
        "x = layers.GRU(64)(x)\n",
        "x = layers.Dense(64, activation='relu')(x)\n",
        "outputs = layers.Dense(1, activation='sigmoid')(x)\n",
        "model_3 = tf.keras.Model(inputs,outputs, name='model_3_GRU')"
      ],
      "execution_count": null,
      "outputs": []
    },
    {
      "cell_type": "code",
      "metadata": {
        "colab": {
          "base_uri": "https://localhost:8080/"
        },
        "id": "6DKzQleqM3vw",
        "outputId": "d581ad9d-6d97-47b5-d7fb-3d2789dc8e62"
      },
      "source": [
        "model_3.summary()"
      ],
      "execution_count": null,
      "outputs": [
        {
          "output_type": "stream",
          "name": "stdout",
          "text": [
            "Model: \"model_3_GRU\"\n",
            "_________________________________________________________________\n",
            "Layer (type)                 Output Shape              Param #   \n",
            "=================================================================\n",
            "input_3 (InputLayer)         [(None, 1)]               0         \n",
            "_________________________________________________________________\n",
            "text_vectorization_1 (TextVe (None, 15)                0         \n",
            "_________________________________________________________________\n",
            "embedding (Embedding)        (None, 15, 128)           1280000   \n",
            "_________________________________________________________________\n",
            "gru (GRU)                    (None, 15, 64)            37248     \n",
            "_________________________________________________________________\n",
            "lstm_2 (LSTM)                (None, 15, 64)            33024     \n",
            "_________________________________________________________________\n",
            "gru_1 (GRU)                  (None, 64)                24960     \n",
            "_________________________________________________________________\n",
            "dense_3 (Dense)              (None, 64)                4160      \n",
            "_________________________________________________________________\n",
            "dense_4 (Dense)              (None, 1)                 65        \n",
            "=================================================================\n",
            "Total params: 1,379,457\n",
            "Trainable params: 1,379,457\n",
            "Non-trainable params: 0\n",
            "_________________________________________________________________\n"
          ]
        }
      ]
    },
    {
      "cell_type": "code",
      "metadata": {
        "id": "yW4FGoFyM7bv"
      },
      "source": [
        "# Compile the model\n",
        "model_3.compile(loss='binary_crossentropy',\n",
        "                optimizer=tf.keras.optimizers.Adam(),\n",
        "                metrics=['accuracy'])"
      ],
      "execution_count": null,
      "outputs": []
    },
    {
      "cell_type": "code",
      "metadata": {
        "colab": {
          "base_uri": "https://localhost:8080/"
        },
        "id": "S-22akRWNUb5",
        "outputId": "cff9eb25-521c-4916-ccf3-3506115319b8"
      },
      "source": [
        "# Fit the model\n",
        "model_3_history = model_3.fit(train_sentences, train_labels,\n",
        "                              epochs=5,\n",
        "                              validation_data = (val_sentences, val_labels),\n",
        "                              callbacks=[create_tensorboard_callback(dir_name = save_dir,\n",
        "                                                                    experiment_name = 'model_3_GRU')])"
      ],
      "execution_count": null,
      "outputs": [
        {
          "output_type": "stream",
          "name": "stdout",
          "text": [
            "Saving TensorBoard log files to: model_logs/model_3_GRU/20211001-041527\n",
            "Epoch 1/5\n",
            "215/215 [==============================] - 6s 14ms/step - loss: 0.1475 - accuracy: 0.9504 - val_loss: 0.7090 - val_accuracy: 0.7756\n",
            "Epoch 2/5\n",
            "215/215 [==============================] - 2s 8ms/step - loss: 0.0779 - accuracy: 0.9688 - val_loss: 0.9712 - val_accuracy: 0.7717\n",
            "Epoch 3/5\n",
            "215/215 [==============================] - 2s 8ms/step - loss: 0.0634 - accuracy: 0.9710 - val_loss: 1.2244 - val_accuracy: 0.7703\n",
            "Epoch 4/5\n",
            "215/215 [==============================] - 2s 8ms/step - loss: 0.0611 - accuracy: 0.9727 - val_loss: 1.2628 - val_accuracy: 0.7717\n",
            "Epoch 5/5\n",
            "215/215 [==============================] - 2s 8ms/step - loss: 0.0541 - accuracy: 0.9749 - val_loss: 1.3424 - val_accuracy: 0.7690\n"
          ]
        }
      ]
    },
    {
      "cell_type": "code",
      "metadata": {
        "colab": {
          "base_uri": "https://localhost:8080/"
        },
        "id": "M2DgdBZ7Nvz5",
        "outputId": "cc95f63d-150b-44a3-84aa-d9f655a5398f"
      },
      "source": [
        "model_3_pred_probs = model_3.predict(val_sentences)\n",
        "model_3_pred_probs = tf.squeeze(model_3_pred_probs)\n",
        "model_3_pred_probs[:10]"
      ],
      "execution_count": null,
      "outputs": [
        {
          "output_type": "execute_result",
          "data": {
            "text/plain": [
              "<tf.Tensor: shape=(10,), dtype=float32, numpy=\n",
              "array([5.5469521e-03, 6.8771321e-01, 9.9997067e-01, 2.7508301e-01,\n",
              "       1.7255796e-05, 9.9932504e-01, 8.3559477e-01, 9.9994659e-01,\n",
              "       9.9994278e-01, 5.0543958e-01], dtype=float32)>"
            ]
          },
          "metadata": {},
          "execution_count": 56
        }
      ]
    },
    {
      "cell_type": "code",
      "metadata": {
        "colab": {
          "base_uri": "https://localhost:8080/"
        },
        "id": "HyPsv-6FN4tE",
        "outputId": "2d5e5116-bd67-41c5-db32-2dfa1edfb3f4"
      },
      "source": [
        "model_3_preds = tf.round(model_3_pred_probs)\n",
        "model_3_preds[:10]"
      ],
      "execution_count": null,
      "outputs": [
        {
          "output_type": "execute_result",
          "data": {
            "text/plain": [
              "<tf.Tensor: shape=(10,), dtype=float32, numpy=array([0., 1., 1., 0., 0., 1., 1., 1., 1., 1.], dtype=float32)>"
            ]
          },
          "metadata": {},
          "execution_count": 57
        }
      ]
    },
    {
      "cell_type": "code",
      "metadata": {
        "colab": {
          "base_uri": "https://localhost:8080/"
        },
        "id": "bF92qzsXOEoI",
        "outputId": "b4c377e5-dd50-4bde-d41e-2e8d13092751"
      },
      "source": [
        "model_3_results = calculate_results(y_true = val_labels,\n",
        "                                    y_pred = model_3_preds)\n",
        "model_3_results, baseline_results"
      ],
      "execution_count": null,
      "outputs": [
        {
          "output_type": "execute_result",
          "data": {
            "text/plain": [
              "({'accuracy': 0.7690288713910761,\n",
              "  'f1': 0.766385677090764,\n",
              "  'precision': 0.7717390408616506,\n",
              "  'recall': 0.7690288713910761},\n",
              " {'accuracy': 0.7926509186351706,\n",
              "  'f1': 0.7862189758049549,\n",
              "  'precision': 0.8111390004213173,\n",
              "  'recall': 0.7926509186351706})"
            ]
          },
          "metadata": {},
          "execution_count": 58
        }
      ]
    },
    {
      "cell_type": "markdown",
      "metadata": {
        "id": "0f6aGqC2OXwo"
      },
      "source": [
        "### Model 4: Bidirectional RNN\n",
        "\n",
        "Normal RNN goes from left to right. However, bidirectional RNN goes from right to left as well as left to right."
      ]
    },
    {
      "cell_type": "code",
      "metadata": {
        "id": "6OJXAk58O_Wt"
      },
      "source": [
        "from tensorflow.keras import layers\n",
        "Inputs = layers.Input(shape=(1,), dtype='string')\n",
        "x = text_vectorizer(Inputs)\n",
        "x = embedding(x)\n",
        "x = layers.Bidirectional(layers.LSTM(64, return_sequences=True))(x)\n",
        "x = layers.Bidirectional(layers.GRU(64))(x)\n",
        "Outputs = layers.Dense(1, activation='sigmoid')(x)\n",
        "model_4 = tf.keras.Model(Inputs, Outputs, name='model_4_bidirectional')"
      ],
      "execution_count": null,
      "outputs": []
    },
    {
      "cell_type": "code",
      "metadata": {
        "colab": {
          "base_uri": "https://localhost:8080/"
        },
        "id": "ov2g4Pu1RC1a",
        "outputId": "9c59b3db-fa8b-478b-cae6-956c4123c2dd"
      },
      "source": [
        "model_4.summary() # bidirectional has double the shape of layer (from 64 to 128)"
      ],
      "execution_count": null,
      "outputs": [
        {
          "output_type": "stream",
          "name": "stdout",
          "text": [
            "Model: \"model_4_bidirectional\"\n",
            "_________________________________________________________________\n",
            "Layer (type)                 Output Shape              Param #   \n",
            "=================================================================\n",
            "input_4 (InputLayer)         [(None, 1)]               0         \n",
            "_________________________________________________________________\n",
            "text_vectorization_1 (TextVe (None, 15)                0         \n",
            "_________________________________________________________________\n",
            "embedding (Embedding)        (None, 15, 128)           1280000   \n",
            "_________________________________________________________________\n",
            "bidirectional (Bidirectional (None, 15, 128)           98816     \n",
            "_________________________________________________________________\n",
            "bidirectional_1 (Bidirection (None, 128)               74496     \n",
            "_________________________________________________________________\n",
            "dense_5 (Dense)              (None, 1)                 129       \n",
            "=================================================================\n",
            "Total params: 1,453,441\n",
            "Trainable params: 1,453,441\n",
            "Non-trainable params: 0\n",
            "_________________________________________________________________\n"
          ]
        }
      ]
    },
    {
      "cell_type": "code",
      "metadata": {
        "id": "dLM8aKfURO5B"
      },
      "source": [
        "# Compile the model\n",
        "model_4.compile(loss='binary_crossentropy',\n",
        "                optimizer=tf.keras.optimizers.Adam(),\n",
        "                metrics=['accuracy'])"
      ],
      "execution_count": null,
      "outputs": []
    },
    {
      "cell_type": "code",
      "metadata": {
        "colab": {
          "base_uri": "https://localhost:8080/"
        },
        "id": "QwroH3kZb06p",
        "outputId": "906170db-146e-4601-cfe3-b8b3a7dff138"
      },
      "source": [
        "# Fit the model\n",
        "model_4_history = model_4.fit(train_sentences, train_labels,\n",
        "                              epochs=5,\n",
        "                              validation_data = (val_sentences, val_labels),\n",
        "                              callbacks = [create_tensorboard_callback(save_dir,\n",
        "                                                                       'model_4_bidirectional')])"
      ],
      "execution_count": null,
      "outputs": [
        {
          "output_type": "stream",
          "name": "stdout",
          "text": [
            "Saving TensorBoard log files to: model_logs/model_4_bidirectional/20211001-041543\n",
            "Epoch 1/5\n",
            "215/215 [==============================] - 8s 19ms/step - loss: 0.1060 - accuracy: 0.9594 - val_loss: 1.0490 - val_accuracy: 0.7717\n",
            "Epoch 2/5\n",
            "215/215 [==============================] - 2s 9ms/step - loss: 0.0525 - accuracy: 0.9771 - val_loss: 1.3042 - val_accuracy: 0.7690\n",
            "Epoch 3/5\n",
            "215/215 [==============================] - 2s 9ms/step - loss: 0.0457 - accuracy: 0.9781 - val_loss: 1.3843 - val_accuracy: 0.7730\n",
            "Epoch 4/5\n",
            "215/215 [==============================] - 2s 10ms/step - loss: 0.0470 - accuracy: 0.9765 - val_loss: 1.7042 - val_accuracy: 0.7730\n",
            "Epoch 5/5\n",
            "215/215 [==============================] - 2s 9ms/step - loss: 0.0405 - accuracy: 0.9793 - val_loss: 1.7167 - val_accuracy: 0.7651\n"
          ]
        }
      ]
    },
    {
      "cell_type": "code",
      "metadata": {
        "id": "FOsDk5ZdcDMh"
      },
      "source": [
        "# Make predictions with our bidirectional model\n",
        "model_4_pred_probs = model_4.predict(val_sentences)\n",
        "model_4_pred_probs = tf.squeeze(model_4_pred_probs)"
      ],
      "execution_count": null,
      "outputs": []
    },
    {
      "cell_type": "code",
      "metadata": {
        "colab": {
          "base_uri": "https://localhost:8080/"
        },
        "id": "qatNGc_qcOCg",
        "outputId": "5c38fc7c-4b54-4a29-a85d-d4bd2990f45f"
      },
      "source": [
        "model_4_preds = tf.round(model_4_pred_probs)\n",
        "model_4_preds[:10]"
      ],
      "execution_count": null,
      "outputs": [
        {
          "output_type": "execute_result",
          "data": {
            "text/plain": [
              "<tf.Tensor: shape=(10,), dtype=float32, numpy=array([0., 1., 1., 0., 0., 1., 0., 1., 1., 1.], dtype=float32)>"
            ]
          },
          "metadata": {},
          "execution_count": 64
        }
      ]
    },
    {
      "cell_type": "code",
      "metadata": {
        "colab": {
          "base_uri": "https://localhost:8080/"
        },
        "id": "jfgCzzxMcZc3",
        "outputId": "349af4c6-f6d4-470c-9791-1993c8a127f3"
      },
      "source": [
        "# calculate the results of our bidirectional model\n",
        "model_4_results = calculate_results(y_true = val_labels,\n",
        "                                    y_pred = model_4_preds)\n",
        "model_4_results, baseline_results"
      ],
      "execution_count": null,
      "outputs": [
        {
          "output_type": "execute_result",
          "data": {
            "text/plain": [
              "({'accuracy': 0.7650918635170604,\n",
              "  'f1': 0.7638552992897211,\n",
              "  'precision': 0.7651942436766878,\n",
              "  'recall': 0.7650918635170604},\n",
              " {'accuracy': 0.7926509186351706,\n",
              "  'f1': 0.7862189758049549,\n",
              "  'precision': 0.8111390004213173,\n",
              "  'recall': 0.7926509186351706})"
            ]
          },
          "metadata": {},
          "execution_count": 65
        }
      ]
    },
    {
      "cell_type": "markdown",
      "metadata": {
        "id": "DgoZOn7ickdw"
      },
      "source": [
        "## Convolution Neural Networks for Text (and other types of sequences)\n",
        "\n",
        "Image are typically 2D, however, our text data is 1D"
      ]
    },
    {
      "cell_type": "markdown",
      "metadata": {
        "id": "iySVze34e_mm"
      },
      "source": [
        "### Model 5: Conv1D"
      ]
    },
    {
      "cell_type": "code",
      "metadata": {
        "colab": {
          "base_uri": "https://localhost:8080/"
        },
        "id": "ApRirWRagZZg",
        "outputId": "10666de5-d3f0-46c0-f4bb-ca6ca04b2e75"
      },
      "source": [
        "# Test out our embedding layer, Conv1D layer and max pooling\n",
        "from tensorflow.keras import layers\n",
        "embedding_test = embedding(text_vectorizer(['this is a test sentence']))\n",
        "conv_1d = layers.Conv1D(filters=32,\n",
        "                        kernel_size=5, # ngrams of 5 (meaning it looks at 5 words at a time)\n",
        "                        strides=1, # default\n",
        "                        activation='relu',\n",
        "                        padding='same') # default = 'valid', the output is smaller than input, 'same' the output is the same size as input\n",
        "conv_1d_output = conv_1d(embedding_test) # pass test embedding through conv_1d layer\n",
        "max_pool_output = layers.GlobalMaxPooling1D()(conv_1d_output) # get the most important feature\n",
        "embedding_test.shape, conv_1d_output.shape, max_pool_output.shape"
      ],
      "execution_count": null,
      "outputs": [
        {
          "output_type": "execute_result",
          "data": {
            "text/plain": [
              "(TensorShape([1, 15, 128]), TensorShape([1, 15, 32]), TensorShape([1, 32]))"
            ]
          },
          "metadata": {},
          "execution_count": 66
        }
      ]
    },
    {
      "cell_type": "code",
      "metadata": {
        "colab": {
          "base_uri": "https://localhost:8080/"
        },
        "id": "7BrMzbmDhSKN",
        "outputId": "894b4ad9-b370-45ae-be96-6b165c9b8002"
      },
      "source": [
        "embedding_test"
      ],
      "execution_count": null,
      "outputs": [
        {
          "output_type": "execute_result",
          "data": {
            "text/plain": [
              "<tf.Tensor: shape=(1, 15, 128), dtype=float32, numpy=\n",
              "array([[[-0.06056745, -0.04963506, -0.00313067, ..., -0.02494501,\n",
              "          0.04082865, -0.00736627],\n",
              "        [ 0.0025443 ,  0.00771974,  0.02033385, ...,  0.02701048,\n",
              "         -0.02407941, -0.0004269 ],\n",
              "        [-0.03677433,  0.00604142,  0.01632258, ...,  0.02945093,\n",
              "         -0.0126312 ,  0.00635696],\n",
              "        ...,\n",
              "        [-0.01302467, -0.00047697, -0.04413459, ...,  0.00169961,\n",
              "          0.00997596, -0.01358118],\n",
              "        [-0.01302467, -0.00047697, -0.04413459, ...,  0.00169961,\n",
              "          0.00997596, -0.01358118],\n",
              "        [-0.01302467, -0.00047697, -0.04413459, ...,  0.00169961,\n",
              "          0.00997596, -0.01358118]]], dtype=float32)>"
            ]
          },
          "metadata": {},
          "execution_count": 67
        }
      ]
    },
    {
      "cell_type": "code",
      "metadata": {
        "colab": {
          "base_uri": "https://localhost:8080/"
        },
        "id": "TWqplGoqjahx",
        "outputId": "4b736eda-9a38-4821-9b12-5de5ddacfc3a"
      },
      "source": [
        "conv_1d_output"
      ],
      "execution_count": null,
      "outputs": [
        {
          "output_type": "execute_result",
          "data": {
            "text/plain": [
              "<tf.Tensor: shape=(1, 15, 32), dtype=float32, numpy=\n",
              "array([[[5.54795042e-02, 0.00000000e+00, 5.46774175e-03, 2.19211075e-02,\n",
              "         0.00000000e+00, 0.00000000e+00, 0.00000000e+00, 4.73928414e-02,\n",
              "         0.00000000e+00, 0.00000000e+00, 4.76232097e-02, 2.72526890e-02,\n",
              "         0.00000000e+00, 0.00000000e+00, 0.00000000e+00, 2.00715568e-03,\n",
              "         0.00000000e+00, 9.19895899e-03, 0.00000000e+00, 0.00000000e+00,\n",
              "         0.00000000e+00, 1.51944198e-02, 4.70665991e-02, 5.14092017e-03,\n",
              "         0.00000000e+00, 3.00394595e-02, 0.00000000e+00, 0.00000000e+00,\n",
              "         0.00000000e+00, 0.00000000e+00, 0.00000000e+00, 0.00000000e+00],\n",
              "        [8.61836746e-02, 3.10400594e-02, 0.00000000e+00, 0.00000000e+00,\n",
              "         0.00000000e+00, 0.00000000e+00, 5.16743958e-02, 3.08853574e-02,\n",
              "         8.86811614e-02, 5.24181582e-04, 0.00000000e+00, 0.00000000e+00,\n",
              "         4.22764570e-02, 0.00000000e+00, 2.79502086e-02, 7.29298219e-02,\n",
              "         4.92435917e-02, 2.71571241e-02, 4.30886410e-02, 6.00458533e-02,\n",
              "         0.00000000e+00, 2.41149124e-02, 0.00000000e+00, 3.49886045e-02,\n",
              "         1.71364751e-02, 2.87116133e-02, 0.00000000e+00, 7.40776286e-02,\n",
              "         0.00000000e+00, 0.00000000e+00, 0.00000000e+00, 4.33991328e-02],\n",
              "        [3.42671713e-03, 0.00000000e+00, 0.00000000e+00, 7.07437396e-02,\n",
              "         9.26512657e-05, 1.36623219e-01, 0.00000000e+00, 0.00000000e+00,\n",
              "         6.33082166e-02, 4.21639904e-02, 0.00000000e+00, 0.00000000e+00,\n",
              "         0.00000000e+00, 2.66964287e-02, 1.59775168e-02, 0.00000000e+00,\n",
              "         0.00000000e+00, 0.00000000e+00, 3.76728885e-02, 6.59702867e-02,\n",
              "         4.67559770e-02, 0.00000000e+00, 5.24569824e-02, 5.76367527e-02,\n",
              "         2.99813505e-02, 2.11612880e-02, 1.58717134e-03, 4.57834685e-04,\n",
              "         0.00000000e+00, 3.73640954e-02, 0.00000000e+00, 1.90036148e-02],\n",
              "        [5.70672622e-04, 2.59007439e-02, 0.00000000e+00, 0.00000000e+00,\n",
              "         0.00000000e+00, 4.44745012e-02, 2.73695886e-02, 0.00000000e+00,\n",
              "         0.00000000e+00, 7.67376125e-02, 0.00000000e+00, 0.00000000e+00,\n",
              "         4.33617411e-03, 0.00000000e+00, 0.00000000e+00, 0.00000000e+00,\n",
              "         3.23030986e-02, 3.49117517e-02, 5.44396900e-02, 0.00000000e+00,\n",
              "         1.86418667e-02, 0.00000000e+00, 0.00000000e+00, 0.00000000e+00,\n",
              "         0.00000000e+00, 1.09167472e-01, 0.00000000e+00, 1.13602150e-02,\n",
              "         4.14429456e-02, 8.25712010e-02, 0.00000000e+00, 9.26722437e-02],\n",
              "        [0.00000000e+00, 2.46997364e-02, 3.76546104e-03, 1.98649727e-02,\n",
              "         3.28915715e-02, 2.18836833e-02, 0.00000000e+00, 0.00000000e+00,\n",
              "         0.00000000e+00, 1.09330684e-01, 2.64962502e-02, 0.00000000e+00,\n",
              "         2.44806963e-03, 0.00000000e+00, 0.00000000e+00, 1.66242849e-02,\n",
              "         2.61541046e-02, 1.42290741e-02, 5.18381000e-02, 0.00000000e+00,\n",
              "         0.00000000e+00, 0.00000000e+00, 1.65307289e-03, 0.00000000e+00,\n",
              "         9.87618696e-04, 0.00000000e+00, 0.00000000e+00, 0.00000000e+00,\n",
              "         6.29121065e-02, 8.43024254e-02, 0.00000000e+00, 1.61977597e-02],\n",
              "        [1.54725881e-03, 0.00000000e+00, 0.00000000e+00, 1.34692397e-02,\n",
              "         0.00000000e+00, 0.00000000e+00, 2.12544948e-03, 1.98934367e-03,\n",
              "         4.56630811e-02, 6.15334790e-03, 1.14437472e-03, 2.58785821e-02,\n",
              "         0.00000000e+00, 5.33951335e-02, 0.00000000e+00, 0.00000000e+00,\n",
              "         4.83672228e-03, 0.00000000e+00, 0.00000000e+00, 3.10921762e-03,\n",
              "         0.00000000e+00, 4.91764620e-02, 0.00000000e+00, 0.00000000e+00,\n",
              "         4.13455814e-03, 7.15657510e-03, 0.00000000e+00, 0.00000000e+00,\n",
              "         0.00000000e+00, 0.00000000e+00, 3.01571982e-03, 3.24541628e-02],\n",
              "        [7.92342937e-04, 0.00000000e+00, 0.00000000e+00, 8.59442167e-03,\n",
              "         0.00000000e+00, 0.00000000e+00, 0.00000000e+00, 9.21454653e-03,\n",
              "         2.73110159e-02, 0.00000000e+00, 1.69233382e-02, 5.56135410e-03,\n",
              "         0.00000000e+00, 0.00000000e+00, 8.81293695e-03, 3.12405080e-02,\n",
              "         0.00000000e+00, 0.00000000e+00, 0.00000000e+00, 5.61332982e-03,\n",
              "         0.00000000e+00, 3.36764269e-02, 2.81521585e-02, 4.43109591e-03,\n",
              "         0.00000000e+00, 1.26576023e-02, 1.31829549e-03, 3.01663913e-02,\n",
              "         1.36023685e-02, 0.00000000e+00, 7.34815048e-03, 5.24062067e-02],\n",
              "        [0.00000000e+00, 0.00000000e+00, 0.00000000e+00, 0.00000000e+00,\n",
              "         1.13085229e-02, 0.00000000e+00, 0.00000000e+00, 1.47924200e-02,\n",
              "         3.25336605e-02, 3.11310515e-02, 4.19911668e-02, 0.00000000e+00,\n",
              "         5.41679095e-03, 0.00000000e+00, 1.90686602e-02, 9.44502279e-03,\n",
              "         0.00000000e+00, 0.00000000e+00, 1.96053647e-02, 4.40181829e-02,\n",
              "         0.00000000e+00, 1.57554112e-02, 2.99508199e-02, 1.80788198e-03,\n",
              "         9.04390402e-03, 1.44690601e-02, 3.14786546e-02, 5.29587604e-02,\n",
              "         4.14640456e-02, 0.00000000e+00, 0.00000000e+00, 1.94114037e-02],\n",
              "        [0.00000000e+00, 0.00000000e+00, 0.00000000e+00, 0.00000000e+00,\n",
              "         1.13085285e-02, 0.00000000e+00, 0.00000000e+00, 1.47924274e-02,\n",
              "         3.25336568e-02, 3.11310478e-02, 4.19911742e-02, 0.00000000e+00,\n",
              "         5.41680120e-03, 0.00000000e+00, 1.90686714e-02, 9.44503397e-03,\n",
              "         0.00000000e+00, 0.00000000e+00, 1.96053684e-02, 4.40181866e-02,\n",
              "         0.00000000e+00, 1.57554094e-02, 2.99508367e-02, 1.80788001e-03,\n",
              "         9.04390588e-03, 1.44690592e-02, 3.14786583e-02, 5.29587790e-02,\n",
              "         4.14640345e-02, 0.00000000e+00, 0.00000000e+00, 1.94114037e-02],\n",
              "        [0.00000000e+00, 0.00000000e+00, 0.00000000e+00, 0.00000000e+00,\n",
              "         1.13085285e-02, 0.00000000e+00, 0.00000000e+00, 1.47924293e-02,\n",
              "         3.25336754e-02, 3.11310440e-02, 4.19911630e-02, 0.00000000e+00,\n",
              "         5.41680260e-03, 0.00000000e+00, 1.90686658e-02, 9.44503304e-03,\n",
              "         0.00000000e+00, 0.00000000e+00, 1.96053609e-02, 4.40181978e-02,\n",
              "         0.00000000e+00, 1.57554094e-02, 2.99508236e-02, 1.80788024e-03,\n",
              "         9.04390775e-03, 1.44690536e-02, 3.14786509e-02, 5.29587567e-02,\n",
              "         4.14640307e-02, 0.00000000e+00, 0.00000000e+00, 1.94113944e-02],\n",
              "        [0.00000000e+00, 0.00000000e+00, 0.00000000e+00, 0.00000000e+00,\n",
              "         1.13085313e-02, 0.00000000e+00, 0.00000000e+00, 1.47924200e-02,\n",
              "         3.25336568e-02, 3.11310571e-02, 4.19911668e-02, 0.00000000e+00,\n",
              "         5.41679654e-03, 0.00000000e+00, 1.90686658e-02, 9.44502652e-03,\n",
              "         0.00000000e+00, 0.00000000e+00, 1.96053647e-02, 4.40181941e-02,\n",
              "         0.00000000e+00, 1.57554131e-02, 2.99508255e-02, 1.80787616e-03,\n",
              "         9.04390309e-03, 1.44690601e-02, 3.14786620e-02, 5.29587679e-02,\n",
              "         4.14640419e-02, 0.00000000e+00, 0.00000000e+00, 1.94113925e-02],\n",
              "        [0.00000000e+00, 0.00000000e+00, 0.00000000e+00, 0.00000000e+00,\n",
              "         1.13085322e-02, 0.00000000e+00, 0.00000000e+00, 1.47924162e-02,\n",
              "         3.25336531e-02, 3.11310608e-02, 4.19911705e-02, 0.00000000e+00,\n",
              "         5.41679934e-03, 0.00000000e+00, 1.90686546e-02, 9.44502838e-03,\n",
              "         0.00000000e+00, 0.00000000e+00, 1.96053684e-02, 4.40181904e-02,\n",
              "         0.00000000e+00, 1.57554075e-02, 2.99508199e-02, 1.80788059e-03,\n",
              "         9.04390030e-03, 1.44690564e-02, 3.14786546e-02, 5.29587641e-02,\n",
              "         4.14640419e-02, 0.00000000e+00, 0.00000000e+00, 1.94114000e-02],\n",
              "        [0.00000000e+00, 0.00000000e+00, 0.00000000e+00, 0.00000000e+00,\n",
              "         1.13085294e-02, 0.00000000e+00, 0.00000000e+00, 1.47924162e-02,\n",
              "         3.25336605e-02, 3.11310515e-02, 4.19911705e-02, 0.00000000e+00,\n",
              "         5.41679654e-03, 0.00000000e+00, 1.90686695e-02, 9.44502838e-03,\n",
              "         0.00000000e+00, 0.00000000e+00, 1.96053647e-02, 4.40181866e-02,\n",
              "         0.00000000e+00, 1.57554150e-02, 2.99508236e-02, 1.80787896e-03,\n",
              "         9.04390402e-03, 1.44690610e-02, 3.14786620e-02, 5.29587641e-02,\n",
              "         4.14640382e-02, 0.00000000e+00, 0.00000000e+00, 1.94113925e-02],\n",
              "        [4.31513693e-03, 0.00000000e+00, 2.46420735e-03, 0.00000000e+00,\n",
              "         0.00000000e+00, 0.00000000e+00, 0.00000000e+00, 2.02750470e-02,\n",
              "         3.25813070e-02, 3.71863469e-02, 4.58560288e-02, 0.00000000e+00,\n",
              "         0.00000000e+00, 0.00000000e+00, 2.15748493e-02, 9.75841656e-03,\n",
              "         0.00000000e+00, 0.00000000e+00, 1.46636199e-02, 3.81284095e-02,\n",
              "         0.00000000e+00, 6.69542607e-03, 3.60516049e-02, 0.00000000e+00,\n",
              "         1.00023299e-03, 0.00000000e+00, 1.90056879e-02, 4.29132767e-02,\n",
              "         3.64046842e-02, 0.00000000e+00, 0.00000000e+00, 0.00000000e+00],\n",
              "        [3.84457223e-03, 0.00000000e+00, 4.31455346e-03, 0.00000000e+00,\n",
              "         0.00000000e+00, 0.00000000e+00, 0.00000000e+00, 2.79681478e-03,\n",
              "         3.56849842e-02, 2.04361789e-02, 2.37045586e-02, 0.00000000e+00,\n",
              "         0.00000000e+00, 0.00000000e+00, 1.71284620e-02, 7.30972737e-04,\n",
              "         0.00000000e+00, 0.00000000e+00, 2.61960807e-03, 5.17728403e-02,\n",
              "         0.00000000e+00, 0.00000000e+00, 1.86025202e-02, 0.00000000e+00,\n",
              "         4.69750958e-03, 1.17852753e-02, 4.16795425e-02, 3.44346762e-02,\n",
              "         3.68735082e-02, 0.00000000e+00, 0.00000000e+00, 0.00000000e+00]]],\n",
              "      dtype=float32)>"
            ]
          },
          "metadata": {},
          "execution_count": 68
        }
      ]
    },
    {
      "cell_type": "code",
      "metadata": {
        "colab": {
          "base_uri": "https://localhost:8080/"
        },
        "id": "B5Td7oJ-jnQH",
        "outputId": "717f26d9-8b80-41b0-f262-d5a6009960cb"
      },
      "source": [
        "max_pool_output"
      ],
      "execution_count": null,
      "outputs": [
        {
          "output_type": "execute_result",
          "data": {
            "text/plain": [
              "<tf.Tensor: shape=(1, 32), dtype=float32, numpy=\n",
              "array([[0.08618367, 0.03104006, 0.00546774, 0.07074374, 0.03289157,\n",
              "        0.13662322, 0.0516744 , 0.04739284, 0.08868116, 0.10933068,\n",
              "        0.04762321, 0.02725269, 0.04227646, 0.05339513, 0.02795021,\n",
              "        0.07292982, 0.04924359, 0.03491175, 0.05443969, 0.06597029,\n",
              "        0.04675598, 0.04917646, 0.05245698, 0.05763675, 0.02998135,\n",
              "        0.10916747, 0.04167954, 0.07407763, 0.06291211, 0.08430243,\n",
              "        0.00734815, 0.09267224]], dtype=float32)>"
            ]
          },
          "metadata": {},
          "execution_count": 69
        }
      ]
    },
    {
      "cell_type": "code",
      "metadata": {
        "id": "IASD4DYrjd_7"
      },
      "source": [
        "# Build the model\n",
        "from tensorflow.keras import layers\n",
        "Inputs = layers.Input(shape=(1,), dtype=tf.string)\n",
        "x = text_vectorizer(Inputs)\n",
        "x = embedding(x)\n",
        "x = layers.Conv1D(filters=64,\n",
        "                  kernel_size=5,\n",
        "                  strides=1,\n",
        "                  padding='same',\n",
        "                  activation='relu')(x)\n",
        "x = layers.GlobalMaxPooling1D()(x)\n",
        "Outputs = layers.Dense(1, activation = 'sigmoid')(x)\n",
        "model_5 = tf.keras.Model(Inputs, Outputs, name = 'Model_5_conv1D')"
      ],
      "execution_count": null,
      "outputs": []
    },
    {
      "cell_type": "code",
      "metadata": {
        "colab": {
          "base_uri": "https://localhost:8080/"
        },
        "id": "qipEAGKjlIaY",
        "outputId": "4c5847eb-3eff-41e0-a3ae-7f67ba576a08"
      },
      "source": [
        "model_5.summary()"
      ],
      "execution_count": null,
      "outputs": [
        {
          "output_type": "stream",
          "name": "stdout",
          "text": [
            "Model: \"Model_5_conv1D\"\n",
            "_________________________________________________________________\n",
            "Layer (type)                 Output Shape              Param #   \n",
            "=================================================================\n",
            "input_5 (InputLayer)         [(None, 1)]               0         \n",
            "_________________________________________________________________\n",
            "text_vectorization_1 (TextVe (None, 15)                0         \n",
            "_________________________________________________________________\n",
            "embedding (Embedding)        (None, 15, 128)           1280000   \n",
            "_________________________________________________________________\n",
            "conv1d_1 (Conv1D)            (None, 15, 64)            41024     \n",
            "_________________________________________________________________\n",
            "global_max_pooling1d_1 (Glob (None, 64)                0         \n",
            "_________________________________________________________________\n",
            "dense_6 (Dense)              (None, 1)                 65        \n",
            "=================================================================\n",
            "Total params: 1,321,089\n",
            "Trainable params: 1,321,089\n",
            "Non-trainable params: 0\n",
            "_________________________________________________________________\n"
          ]
        }
      ]
    },
    {
      "cell_type": "code",
      "metadata": {
        "id": "dD8nqN6-lNem"
      },
      "source": [
        "# Compile the model\n",
        "model_5.compile(loss='binary_crossentropy',\n",
        "                optimizer=tf.keras.optimizers.Adam(),\n",
        "                metrics=['accuracy'])"
      ],
      "execution_count": null,
      "outputs": []
    },
    {
      "cell_type": "code",
      "metadata": {
        "colab": {
          "base_uri": "https://localhost:8080/"
        },
        "id": "nc_HZWCbligS",
        "outputId": "e8a47a3c-8106-4a95-8ae2-a674bcb09a33"
      },
      "source": [
        "model_5_history = model_5.fit(train_sentences, train_labels,\n",
        "                              epochs=5,\n",
        "                              validation_data = (val_sentences, val_labels),\n",
        "                              callbacks=[create_tensorboard_callback(save_dir,\n",
        "                                                                     experiment_name='model_5_conv1D')])"
      ],
      "execution_count": null,
      "outputs": [
        {
          "output_type": "stream",
          "name": "stdout",
          "text": [
            "Saving TensorBoard log files to: model_logs/model_5_conv1D/20211001-041614\n",
            "Epoch 1/5\n",
            "215/215 [==============================] - 3s 7ms/step - loss: 0.1227 - accuracy: 0.9637 - val_loss: 0.8570 - val_accuracy: 0.7730\n",
            "Epoch 2/5\n",
            "215/215 [==============================] - 1s 4ms/step - loss: 0.0717 - accuracy: 0.9747 - val_loss: 0.9736 - val_accuracy: 0.7808\n",
            "Epoch 3/5\n",
            "215/215 [==============================] - 1s 5ms/step - loss: 0.0593 - accuracy: 0.9764 - val_loss: 1.0429 - val_accuracy: 0.7730\n",
            "Epoch 4/5\n",
            "215/215 [==============================] - 1s 4ms/step - loss: 0.0539 - accuracy: 0.9771 - val_loss: 1.1046 - val_accuracy: 0.7703\n",
            "Epoch 5/5\n",
            "215/215 [==============================] - 1s 4ms/step - loss: 0.0504 - accuracy: 0.9775 - val_loss: 1.1338 - val_accuracy: 0.7677\n"
          ]
        }
      ]
    },
    {
      "cell_type": "code",
      "metadata": {
        "id": "zSJC9bzil9i8"
      },
      "source": [
        "model_5_preds_probs = model_5.predict(val_sentences)\n",
        "model_5_preds_probs = tf.squeeze(model_5_preds_probs)"
      ],
      "execution_count": null,
      "outputs": []
    },
    {
      "cell_type": "code",
      "metadata": {
        "colab": {
          "base_uri": "https://localhost:8080/"
        },
        "id": "b_SqDvvImRkv",
        "outputId": "fa8766a4-6a44-4552-85bf-059af8fbaf80"
      },
      "source": [
        "model_5_preds = tf.round(model_5_preds_probs)\n",
        "model_5_preds[:10]"
      ],
      "execution_count": null,
      "outputs": [
        {
          "output_type": "execute_result",
          "data": {
            "text/plain": [
              "<tf.Tensor: shape=(10,), dtype=float32, numpy=array([0., 1., 1., 0., 0., 1., 1., 1., 1., 1.], dtype=float32)>"
            ]
          },
          "metadata": {},
          "execution_count": 75
        }
      ]
    },
    {
      "cell_type": "code",
      "metadata": {
        "colab": {
          "base_uri": "https://localhost:8080/"
        },
        "id": "Ph-Wb46YmXRq",
        "outputId": "69cfed7f-cc4b-4015-c2e7-0b874ba360e6"
      },
      "source": [
        "model_5_results = calculate_results(y_true = val_labels,\n",
        "                                    y_pred = model_5_preds)\n",
        "model_5_results, baseline_results"
      ],
      "execution_count": null,
      "outputs": [
        {
          "output_type": "execute_result",
          "data": {
            "text/plain": [
              "({'accuracy': 0.7677165354330708,\n",
              "  'f1': 0.7667932666650168,\n",
              "  'precision': 0.7675450859410361,\n",
              "  'recall': 0.7677165354330708},\n",
              " {'accuracy': 0.7926509186351706,\n",
              "  'f1': 0.7862189758049549,\n",
              "  'precision': 0.8111390004213173,\n",
              "  'recall': 0.7926509186351706})"
            ]
          },
          "metadata": {},
          "execution_count": 76
        }
      ]
    },
    {
      "cell_type": "markdown",
      "metadata": {
        "id": "h3AaOi4vmjN8"
      },
      "source": [
        "## Model 6: TensorFlow Hub Pretrained Sentence Encoder\n",
        "\n",
        "Transfer learning from TensorFlow Hub: Universal Sentence Encoder"
      ]
    },
    {
      "cell_type": "code",
      "metadata": {
        "colab": {
          "base_uri": "https://localhost:8080/"
        },
        "id": "psDhW6xFF2u-",
        "outputId": "3b059540-b5ae-47c6-f4ca-f868d01c68df"
      },
      "source": [
        "sample_sentence"
      ],
      "execution_count": null,
      "outputs": [
        {
          "output_type": "execute_result",
          "data": {
            "application/vnd.google.colaboratory.intrinsic+json": {
              "type": "string"
            },
            "text/plain": [
              "\"There's a flood in my street!\""
            ]
          },
          "metadata": {},
          "execution_count": 77
        }
      ]
    },
    {
      "cell_type": "code",
      "metadata": {
        "id": "8Ig9ZTGAo8LZ"
      },
      "source": [
        "import tensorflow_hub as hub\n",
        "embed = hub.load('https://tfhub.dev/google/universal-sentence-encoder/4') # pretrained embedding layer\n",
        "embed_samples = embed([sample_sentence, \n",
        "                      \"When you can the universal sentence encoder on a sentence, it turns it into numbers.\"])"
      ],
      "execution_count": null,
      "outputs": []
    },
    {
      "cell_type": "code",
      "metadata": {
        "colab": {
          "base_uri": "https://localhost:8080/"
        },
        "id": "llumbqZfGG52",
        "outputId": "676d74c9-50ce-4e95-f268-db7efdf90104"
      },
      "source": [
        "print(embed_samples[0][:50])"
      ],
      "execution_count": null,
      "outputs": [
        {
          "output_type": "stream",
          "name": "stdout",
          "text": [
            "tf.Tensor(\n",
            "[-0.01157032  0.02485909  0.02878048 -0.01271501  0.03971539  0.0882776\n",
            "  0.02680985  0.05589837 -0.0106873  -0.00597291  0.00639325 -0.0181952\n",
            "  0.00030816  0.09105889  0.05874643 -0.03180627  0.01512473 -0.05162929\n",
            "  0.00991365 -0.06865346 -0.04209305  0.02678981  0.03011008  0.00321067\n",
            " -0.0033797  -0.04787361  0.02266722 -0.00985925 -0.04063613 -0.0129209\n",
            " -0.04666385  0.056303   -0.03949255  0.00517688  0.02495828 -0.07014443\n",
            "  0.02871508  0.04947681 -0.00633976 -0.08960193  0.02807116 -0.00808363\n",
            " -0.01360604  0.0599865  -0.10361787 -0.05195372  0.00232956 -0.02332528\n",
            " -0.03758106  0.03327731], shape=(50,), dtype=float32)\n"
          ]
        }
      ]
    },
    {
      "cell_type": "code",
      "metadata": {
        "colab": {
          "base_uri": "https://localhost:8080/"
        },
        "id": "OKXJFrILGhPt",
        "outputId": "14f2db96-c09a-4f91-a145-85c2b192ecbd"
      },
      "source": [
        "embed_samples[0].shape"
      ],
      "execution_count": null,
      "outputs": [
        {
          "output_type": "execute_result",
          "data": {
            "text/plain": [
              "TensorShape([512])"
            ]
          },
          "metadata": {},
          "execution_count": 80
        }
      ]
    },
    {
      "cell_type": "code",
      "metadata": {
        "id": "wJbslgSkHIVc"
      },
      "source": [
        "# Create a kerras layer using the USE(unviversal sentence encoder) layer from tensorflow hub\n",
        "sentence_encoder_layer = hub.KerasLayer('https://tfhub.dev/google/universal-sentence-encoder/4',\n",
        "                                        input_shape = [], # any variable length English text but always output 512 feature vectors\n",
        "                                        dtype=tf.string,\n",
        "                                        trainable=False,\n",
        "                                        name = \"USE\") # control shift space to look at doc string"
      ],
      "execution_count": null,
      "outputs": []
    },
    {
      "cell_type": "code",
      "metadata": {
        "id": "YuxW2xXaGiUn"
      },
      "source": [
        "# Build the model\n",
        "from tensorflow.keras import layers\n",
        "model_6 = tf.keras.Sequential([\n",
        "                               sentence_encoder_layer,\n",
        "                               layers.Dense(64, activation='relu'),\n",
        "                               layers.Dense(1, activation='sigmoid')\n",
        "], name='model_6_USE')\n",
        "\n",
        "# compile model\n",
        "model_6.compile(loss='binary_crossentropy',\n",
        "                optimizer = tf.keras.optimizers.Adam(),\n",
        "                metrics=['accuracy'])\n"
      ],
      "execution_count": null,
      "outputs": []
    },
    {
      "cell_type": "code",
      "metadata": {
        "colab": {
          "base_uri": "https://localhost:8080/"
        },
        "id": "dFzP7_XVI5JC",
        "outputId": "394a9456-3da7-4d2e-ac49-8e33324486fb"
      },
      "source": [
        "model_6.summary()"
      ],
      "execution_count": null,
      "outputs": [
        {
          "output_type": "stream",
          "name": "stdout",
          "text": [
            "Model: \"model_6_USE\"\n",
            "_________________________________________________________________\n",
            "Layer (type)                 Output Shape              Param #   \n",
            "=================================================================\n",
            "USE (KerasLayer)             (None, 512)               256797824 \n",
            "_________________________________________________________________\n",
            "dense_7 (Dense)              (None, 64)                32832     \n",
            "_________________________________________________________________\n",
            "dense_8 (Dense)              (None, 1)                 65        \n",
            "=================================================================\n",
            "Total params: 256,830,721\n",
            "Trainable params: 32,897\n",
            "Non-trainable params: 256,797,824\n",
            "_________________________________________________________________\n"
          ]
        }
      ]
    },
    {
      "cell_type": "code",
      "metadata": {
        "colab": {
          "base_uri": "https://localhost:8080/"
        },
        "id": "bXVqy4LzI8fD",
        "outputId": "7af1c3b6-ae4c-4e29-dd8d-6d8de31b84b3"
      },
      "source": [
        "model_6_history = model_6.fit(train_sentences, train_labels,\n",
        "            epochs=5,\n",
        "            validation_data = (val_sentences, val_labels),\n",
        "            callbacks=[create_tensorboard_callback(save_dir,\n",
        "                                                   'model_6_USE')])"
      ],
      "execution_count": null,
      "outputs": [
        {
          "output_type": "stream",
          "name": "stdout",
          "text": [
            "Saving TensorBoard log files to: model_logs/model_6_USE/20211001-041643\n",
            "Epoch 1/5\n",
            "215/215 [==============================] - 7s 21ms/step - loss: 0.5096 - accuracy: 0.7851 - val_loss: 0.4521 - val_accuracy: 0.7940\n",
            "Epoch 2/5\n",
            "215/215 [==============================] - 2s 10ms/step - loss: 0.4179 - accuracy: 0.8143 - val_loss: 0.4439 - val_accuracy: 0.8084\n",
            "Epoch 3/5\n",
            "215/215 [==============================] - 2s 10ms/step - loss: 0.4027 - accuracy: 0.8212 - val_loss: 0.4374 - val_accuracy: 0.8123\n",
            "Epoch 4/5\n",
            "215/215 [==============================] - 2s 10ms/step - loss: 0.3948 - accuracy: 0.8251 - val_loss: 0.4299 - val_accuracy: 0.8097\n",
            "Epoch 5/5\n",
            "215/215 [==============================] - 2s 10ms/step - loss: 0.3872 - accuracy: 0.8295 - val_loss: 0.4283 - val_accuracy: 0.8163\n"
          ]
        }
      ]
    },
    {
      "cell_type": "code",
      "metadata": {
        "colab": {
          "base_uri": "https://localhost:8080/"
        },
        "id": "tMiiscOQJL71",
        "outputId": "0539a24f-467c-4d65-d338-4b5667fab953"
      },
      "source": [
        "model_6_preds_probs = model_6.predict(val_sentences)\n",
        "model_6_preds_probs = tf.squeeze(model_6_preds_probs)\n",
        "model_6_preds = tf.round(model_6_preds_probs)\n",
        "model_6_preds[:10]"
      ],
      "execution_count": null,
      "outputs": [
        {
          "output_type": "execute_result",
          "data": {
            "text/plain": [
              "<tf.Tensor: shape=(10,), dtype=float32, numpy=array([0., 1., 1., 0., 1., 1., 1., 1., 1., 0.], dtype=float32)>"
            ]
          },
          "metadata": {},
          "execution_count": 85
        }
      ]
    },
    {
      "cell_type": "code",
      "metadata": {
        "colab": {
          "base_uri": "https://localhost:8080/"
        },
        "id": "ZzzTixyKJrys",
        "outputId": "dd7d400b-6c60-428f-dd7b-af56f74907d8"
      },
      "source": [
        "model_6_results = calculate_results(y_true = val_labels,\n",
        "                                    y_pred = model_6_preds)\n",
        "model_6_results, baseline_results"
      ],
      "execution_count": null,
      "outputs": [
        {
          "output_type": "execute_result",
          "data": {
            "text/plain": [
              "({'accuracy': 0.8162729658792651,\n",
              "  'f1': 0.8149987406062964,\n",
              "  'precision': 0.8178880419707742,\n",
              "  'recall': 0.8162729658792651},\n",
              " {'accuracy': 0.7926509186351706,\n",
              "  'f1': 0.7862189758049549,\n",
              "  'precision': 0.8111390004213173,\n",
              "  'recall': 0.7926509186351706})"
            ]
          },
          "metadata": {},
          "execution_count": 86
        }
      ]
    },
    {
      "cell_type": "code",
      "metadata": {
        "id": "vnoImhGCJ0pO"
      },
      "source": [
        "# functional API\n",
        "from tensorflow.keras import layers\n",
        "Inputs = layers.Input(shape=(1,), dtype='string')\n",
        "x = tf.keras.Sequential([sentence_encoder_layer])(Inputs)\n",
        "x = layers.Dense(64, activation='relu')(x)\n",
        "Outputs = layers.Dense(1,activation='sigmoid')(x)\n",
        "model_6f = tf.keras.Model(Inputs,Outputs, name = 'model_6f')\n",
        "\n",
        "# compile the model\n",
        "model_6f.compile(loss='binary_crossentropy',\n",
        "                optimizer = tf.keras.optimizers.Adam(),\n",
        "                metrics=['accuracy'])"
      ],
      "execution_count": null,
      "outputs": []
    },
    {
      "cell_type": "code",
      "metadata": {
        "colab": {
          "base_uri": "https://localhost:8080/"
        },
        "id": "gr-jbP3aKtsj",
        "outputId": "3169e78d-b0fa-4827-d0be-40f3182b3047"
      },
      "source": [
        "model_6f.summary()"
      ],
      "execution_count": null,
      "outputs": [
        {
          "output_type": "stream",
          "name": "stdout",
          "text": [
            "Model: \"model_6f\"\n",
            "_________________________________________________________________\n",
            "Layer (type)                 Output Shape              Param #   \n",
            "=================================================================\n",
            "input_6 (InputLayer)         [(None, 1)]               0         \n",
            "_________________________________________________________________\n",
            "sequential (Sequential)      (None, 512)               256797824 \n",
            "_________________________________________________________________\n",
            "dense_9 (Dense)              (None, 64)                32832     \n",
            "_________________________________________________________________\n",
            "dense_10 (Dense)             (None, 1)                 65        \n",
            "=================================================================\n",
            "Total params: 256,830,721\n",
            "Trainable params: 32,897\n",
            "Non-trainable params: 256,797,824\n",
            "_________________________________________________________________\n"
          ]
        }
      ]
    },
    {
      "cell_type": "code",
      "metadata": {
        "colab": {
          "base_uri": "https://localhost:8080/"
        },
        "id": "elH7LHdZLGxF",
        "outputId": "a8e52ff8-ae3e-4523-8977-c69a93004fee"
      },
      "source": [
        "model_6f_history = model_6f.fit(train_sentences, train_labels,\n",
        "            epochs=5,\n",
        "            validation_data = (val_sentences, val_labels),\n",
        "            callbacks=[create_tensorboard_callback(save_dir,\n",
        "                                                   'model_6_USE')])"
      ],
      "execution_count": null,
      "outputs": [
        {
          "output_type": "stream",
          "name": "stdout",
          "text": [
            "Saving TensorBoard log files to: model_logs/model_6_USE/20211001-041659\n",
            "Epoch 1/5\n",
            "215/215 [==============================] - 4s 15ms/step - loss: 0.5051 - accuracy: 0.7866 - val_loss: 0.4490 - val_accuracy: 0.8058\n",
            "Epoch 2/5\n",
            "215/215 [==============================] - 2s 10ms/step - loss: 0.4163 - accuracy: 0.8139 - val_loss: 0.4406 - val_accuracy: 0.8045\n",
            "Epoch 3/5\n",
            "215/215 [==============================] - 2s 10ms/step - loss: 0.4028 - accuracy: 0.8196 - val_loss: 0.4322 - val_accuracy: 0.8189\n",
            "Epoch 4/5\n",
            "215/215 [==============================] - 2s 10ms/step - loss: 0.3927 - accuracy: 0.8266 - val_loss: 0.4341 - val_accuracy: 0.8136\n",
            "Epoch 5/5\n",
            "215/215 [==============================] - 2s 10ms/step - loss: 0.3855 - accuracy: 0.8294 - val_loss: 0.4315 - val_accuracy: 0.8150\n"
          ]
        }
      ]
    },
    {
      "cell_type": "code",
      "metadata": {
        "colab": {
          "base_uri": "https://localhost:8080/"
        },
        "id": "SEMC2ALaLwb6",
        "outputId": "e89f5b7e-d05e-4b90-9275-5c7a8fa64218"
      },
      "source": [
        "model_6f_preds_probs = model_6f.predict(val_sentences)\n",
        "model_6f_preds_probs = tf.squeeze(model_6f_preds_probs)\n",
        "model_6f_preds = tf.round(model_6f_preds_probs)\n",
        "model_6f_preds[:10]"
      ],
      "execution_count": null,
      "outputs": [
        {
          "output_type": "execute_result",
          "data": {
            "text/plain": [
              "<tf.Tensor: shape=(10,), dtype=float32, numpy=array([0., 1., 1., 0., 1., 1., 1., 1., 1., 0.], dtype=float32)>"
            ]
          },
          "metadata": {},
          "execution_count": 90
        }
      ]
    },
    {
      "cell_type": "code",
      "metadata": {
        "colab": {
          "base_uri": "https://localhost:8080/"
        },
        "id": "G-Q0f2-mL2of",
        "outputId": "a0798c2b-6c33-4e93-8094-aac856326d0f"
      },
      "source": [
        "model_6f_results = calculate_results(y_true = val_labels,\n",
        "                                    y_pred = model_6f_preds)\n",
        "model_6f_results, baseline_results"
      ],
      "execution_count": null,
      "outputs": [
        {
          "output_type": "execute_result",
          "data": {
            "text/plain": [
              "({'accuracy': 0.8149606299212598,\n",
              "  'f1': 0.8134357776936025,\n",
              "  'precision': 0.8172549323109193,\n",
              "  'recall': 0.8149606299212598},\n",
              " {'accuracy': 0.7926509186351706,\n",
              "  'f1': 0.7862189758049549,\n",
              "  'precision': 0.8111390004213173,\n",
              "  'recall': 0.7926509186351706})"
            ]
          },
          "metadata": {},
          "execution_count": 91
        }
      ]
    },
    {
      "cell_type": "code",
      "metadata": {
        "colab": {
          "base_uri": "https://localhost:8080/"
        },
        "id": "fnkHL2oYL-of",
        "outputId": "474d48ff-031b-404c-b926-570f5234a932"
      },
      "source": [
        "len(train_df_shuffled)"
      ],
      "execution_count": null,
      "outputs": [
        {
          "output_type": "execute_result",
          "data": {
            "text/plain": [
              "7613"
            ]
          },
          "metadata": {},
          "execution_count": 92
        }
      ]
    },
    {
      "cell_type": "markdown",
      "metadata": {
        "id": "DE0vYr5aMwY6"
      },
      "source": [
        "## Model 7: TF Hub Pretrained USE but with 10% of training data\n",
        "\n",
        "replicate model 6 with 10% of the data"
      ]
    },
    {
      "cell_type": "code",
      "metadata": {
        "id": "wJsNEKJ4YF_9"
      },
      "source": [
        "# Create subsets of 10% of the training data\n",
        "train_10_percent_split = int(0.1 * len(train_sentences))\n",
        "train_sentences_10_percent = train_sentences[:train_10_percent_split]\n",
        "train_labels_10_percent = train_labels[:train_10_percent_split]"
      ],
      "execution_count": null,
      "outputs": []
    },
    {
      "cell_type": "code",
      "metadata": {
        "colab": {
          "base_uri": "https://localhost:8080/"
        },
        "id": "mXLIoE8COBeX",
        "outputId": "e1349889-ff3c-4a70-b837-9a92930a8128"
      },
      "source": [
        "train_sentences_10_percent[:10], train_labels_10_percent[:10]"
      ],
      "execution_count": null,
      "outputs": [
        {
          "output_type": "execute_result",
          "data": {
            "text/plain": [
              "(array(['@mogacola @zamtriossu i screamed after hitting tweet',\n",
              "        'Imagine getting flattened by Kurt Zouma',\n",
              "        '@Gurmeetramrahim #MSGDoing111WelfareWorks Green S welfare force ke appx 65000 members har time disaster victim ki help ke liye tyar hai....',\n",
              "        \"@shakjn @C7 @Magnums im shaking in fear he's gonna hack the planet\",\n",
              "        'Somehow find you and I collide http://t.co/Ee8RpOahPk',\n",
              "        '@EvaHanderek @MarleyKnysh great times until the bus driver held us hostage in the mall parking lot lmfao',\n",
              "        'destroy the free fandom honestly',\n",
              "        'Weapons stolen from National Guard Armory in New Albany still missing #Gunsense http://t.co/lKNU8902JE',\n",
              "        '@wfaaweather Pete when will the heat wave pass? Is it really going to be mid month? Frisco Boy Scouts have a canoe trip in Okla.',\n",
              "        'Patient-reported outcomes in long-term survivors of metastatic colorectal cancer - British Journal of Surgery http://t.co/5Yl4DC1Tqt'],\n",
              "       dtype=object), array([0, 0, 1, 0, 0, 1, 1, 0, 1, 1]))"
            ]
          },
          "metadata": {},
          "execution_count": 94
        }
      ]
    },
    {
      "cell_type": "code",
      "metadata": {
        "colab": {
          "base_uri": "https://localhost:8080/"
        },
        "id": "V0_tDubsZIc-",
        "outputId": "2aeef081-f719-471a-b7af-980c45404708"
      },
      "source": [
        "pd.Series(train_labels_10_percent).value_counts()"
      ],
      "execution_count": null,
      "outputs": [
        {
          "output_type": "execute_result",
          "data": {
            "text/plain": [
              "0    406\n",
              "1    279\n",
              "dtype: int64"
            ]
          },
          "metadata": {},
          "execution_count": 95
        }
      ]
    },
    {
      "cell_type": "code",
      "metadata": {
        "colab": {
          "base_uri": "https://localhost:8080/"
        },
        "id": "9k1kYl5IZQcT",
        "outputId": "1e290195-3ae5-416c-ad5c-cb2cdfae4c95"
      },
      "source": [
        "pd.Series(train_labels).value_counts()"
      ],
      "execution_count": null,
      "outputs": [
        {
          "output_type": "execute_result",
          "data": {
            "text/plain": [
              "0    3928\n",
              "1    2923\n",
              "dtype: int64"
            ]
          },
          "metadata": {},
          "execution_count": 96
        }
      ]
    },
    {
      "cell_type": "code",
      "metadata": {
        "id": "a8IudJxnOSqK"
      },
      "source": [
        "# Build model\n",
        "from tensorflow.keras import layers\n",
        "Inputs = layers.Input(shape=(1,), dtype='string')\n",
        "x = tf.keras.Sequential([sentence_encoder_layer])(Inputs)\n",
        "x = layers.Dense(64, activation = 'relu')(x)\n",
        "Outputs = layers.Dense(1, activation = 'sigmoid')(x)\n",
        "model_7 = tf.keras.Model(Inputs, Outputs)\n",
        "\n",
        "# Compile model\n",
        "model_7.compile(loss='binary_crossentropy',\n",
        "                optimizer = tf.keras.optimizers.Adam(),\n",
        "                metrics=['accuracy'])"
      ],
      "execution_count": null,
      "outputs": []
    },
    {
      "cell_type": "code",
      "metadata": {
        "colab": {
          "base_uri": "https://localhost:8080/"
        },
        "id": "CcseZ8C1R3L4",
        "outputId": "a25126fd-04f6-4a04-bf84-2c2b42e17fbf"
      },
      "source": [
        "# Fit model\n",
        "model_7_history = model_7.fit(train_sentences_10_percent, train_labels_10_percent,\n",
        "                              epochs = 5,\n",
        "                              validation_data = (val_sentences, val_labels),\n",
        "                              callbacks = [create_tensorboard_callback(save_dir,\n",
        "                                                                       'model_7_USE_10_percent')])"
      ],
      "execution_count": null,
      "outputs": [
        {
          "output_type": "stream",
          "name": "stdout",
          "text": [
            "Saving TensorBoard log files to: model_logs/model_7_USE_10_percent/20211001-041713\n",
            "Epoch 1/5\n",
            "22/22 [==============================] - 2s 75ms/step - loss: 0.6668 - accuracy: 0.6949 - val_loss: 0.6405 - val_accuracy: 0.7598\n",
            "Epoch 2/5\n",
            "22/22 [==============================] - 0s 19ms/step - loss: 0.5902 - accuracy: 0.8073 - val_loss: 0.5821 - val_accuracy: 0.7730\n",
            "Epoch 3/5\n",
            "22/22 [==============================] - 1s 24ms/step - loss: 0.5155 - accuracy: 0.8175 - val_loss: 0.5307 - val_accuracy: 0.7717\n",
            "Epoch 4/5\n",
            "22/22 [==============================] - 0s 23ms/step - loss: 0.4582 - accuracy: 0.8219 - val_loss: 0.5032 - val_accuracy: 0.7730\n",
            "Epoch 5/5\n",
            "22/22 [==============================] - 0s 18ms/step - loss: 0.4196 - accuracy: 0.8307 - val_loss: 0.4901 - val_accuracy: 0.7782\n"
          ]
        }
      ]
    },
    {
      "cell_type": "code",
      "metadata": {
        "colab": {
          "base_uri": "https://localhost:8080/"
        },
        "id": "20QACRiFU_Hm",
        "outputId": "2f54c2ff-7db0-4327-bf4b-0c2b9ff13de5"
      },
      "source": [
        "model_7_preds_probs = model_7.predict(val_sentences)\n",
        "model_7_preds_probs = tf.squeeze(model_7_preds_probs)\n",
        "model_7_preds = tf.round(model_7_preds_probs)\n",
        "model_7_preds[:10]"
      ],
      "execution_count": null,
      "outputs": [
        {
          "output_type": "execute_result",
          "data": {
            "text/plain": [
              "<tf.Tensor: shape=(10,), dtype=float32, numpy=array([0., 1., 1., 0., 1., 1., 1., 1., 1., 0.], dtype=float32)>"
            ]
          },
          "metadata": {},
          "execution_count": 99
        }
      ]
    },
    {
      "cell_type": "code",
      "metadata": {
        "colab": {
          "base_uri": "https://localhost:8080/"
        },
        "id": "xfY_xxhxVEpm",
        "outputId": "d136c3af-6f43-4e90-e703-b5bc5af4e332"
      },
      "source": [
        "model_7_results = calculate_results(y_true = val_labels,\n",
        "                                    y_pred = model_7_preds)\n",
        "model_7_results, model_6_results"
      ],
      "execution_count": null,
      "outputs": [
        {
          "output_type": "execute_result",
          "data": {
            "text/plain": [
              "({'accuracy': 0.7782152230971129,\n",
              "  'f1': 0.7766208088282468,\n",
              "  'precision': 0.7791991586469295,\n",
              "  'recall': 0.7782152230971129},\n",
              " {'accuracy': 0.8162729658792651,\n",
              "  'f1': 0.8149987406062964,\n",
              "  'precision': 0.8178880419707742,\n",
              "  'recall': 0.8162729658792651})"
            ]
          },
          "metadata": {},
          "execution_count": 100
        }
      ]
    },
    {
      "cell_type": "code",
      "metadata": {
        "colab": {
          "base_uri": "https://localhost:8080/"
        },
        "id": "jjo8cSzoTq8I",
        "outputId": "3e89b9c6-37ca-4154-b13d-b7188b53f7c6"
      },
      "source": [
        "# To recreate a model the same as a previous model you've created you can use tf.keras.model.clone_model\n",
        "model_7c = tf.keras.models.clone_model(model_6)\n",
        "\n",
        "# Compile model\n",
        "model_7c.compile(loss='binary_crossentropy',\n",
        "                 optimizer = tf.keras.optimizers.Adam(),\n",
        "                 metrics=['accuracy'])\n",
        "\n",
        "model_7c.summary() # Cloned model"
      ],
      "execution_count": null,
      "outputs": [
        {
          "output_type": "stream",
          "name": "stdout",
          "text": [
            "Model: \"model_6_USE\"\n",
            "_________________________________________________________________\n",
            "Layer (type)                 Output Shape              Param #   \n",
            "=================================================================\n",
            "USE (KerasLayer)             (None, 512)               256797824 \n",
            "_________________________________________________________________\n",
            "dense_7 (Dense)              (None, 64)                32832     \n",
            "_________________________________________________________________\n",
            "dense_8 (Dense)              (None, 1)                 65        \n",
            "=================================================================\n",
            "Total params: 256,830,721\n",
            "Trainable params: 32,897\n",
            "Non-trainable params: 256,797,824\n",
            "_________________________________________________________________\n"
          ]
        }
      ]
    },
    {
      "cell_type": "code",
      "metadata": {
        "colab": {
          "base_uri": "https://localhost:8080/"
        },
        "id": "teV0gcEuU5ym",
        "outputId": "ed0d38fe-9053-449e-c962-c261480e56c7"
      },
      "source": [
        "# Fit model\n",
        "model_7c_history = model_7c.fit(train_sentences_10_percent, train_labels_10_percent,\n",
        "                              epochs = 5,\n",
        "                              validation_data = (val_sentences, val_labels),\n",
        "                              callbacks = [create_tensorboard_callback(save_dir,\n",
        "                                                                       'model_7_clone6_USE_10_percent')])"
      ],
      "execution_count": null,
      "outputs": [
        {
          "output_type": "stream",
          "name": "stdout",
          "text": [
            "Saving TensorBoard log files to: model_logs/model_7_clone6_USE_10_percent/20211001-041721\n",
            "Epoch 1/5\n",
            "22/22 [==============================] - 4s 103ms/step - loss: 0.6724 - accuracy: 0.6774 - val_loss: 0.6523 - val_accuracy: 0.7428\n",
            "Epoch 2/5\n",
            "22/22 [==============================] - 1s 26ms/step - loss: 0.6056 - accuracy: 0.8131 - val_loss: 0.5936 - val_accuracy: 0.7756\n",
            "Epoch 3/5\n",
            "22/22 [==============================] - 1s 24ms/step - loss: 0.5277 - accuracy: 0.8248 - val_loss: 0.5386 - val_accuracy: 0.7913\n",
            "Epoch 4/5\n",
            "22/22 [==============================] - 1s 24ms/step - loss: 0.4668 - accuracy: 0.8248 - val_loss: 0.5051 - val_accuracy: 0.7848\n",
            "Epoch 5/5\n",
            "22/22 [==============================] - 1s 25ms/step - loss: 0.4227 - accuracy: 0.8365 - val_loss: 0.4870 - val_accuracy: 0.7835\n"
          ]
        }
      ]
    },
    {
      "cell_type": "code",
      "metadata": {
        "colab": {
          "base_uri": "https://localhost:8080/"
        },
        "id": "5iwUcvSAVd21",
        "outputId": "ffe81fde-0643-4d43-9ea2-bf46fc467ef9"
      },
      "source": [
        "model_7c_preds_probs = model_7c.predict(val_sentences)\n",
        "model_7c_preds_probs = tf.squeeze(model_7c_preds_probs)\n",
        "model_7c_preds = tf.round(model_7c_preds_probs)\n",
        "model_7c_preds[:10]"
      ],
      "execution_count": null,
      "outputs": [
        {
          "output_type": "execute_result",
          "data": {
            "text/plain": [
              "<tf.Tensor: shape=(10,), dtype=float32, numpy=array([0., 1., 1., 0., 1., 1., 1., 1., 1., 0.], dtype=float32)>"
            ]
          },
          "metadata": {},
          "execution_count": 103
        }
      ]
    },
    {
      "cell_type": "code",
      "metadata": {
        "colab": {
          "base_uri": "https://localhost:8080/"
        },
        "id": "aioEMFihVlga",
        "outputId": "df859ddd-efbc-472c-a779-27ca2c18072a"
      },
      "source": [
        "model_7c_results = calculate_results(y_true = val_labels,\n",
        "                                     y_pred = model_7c_preds)\n",
        "model_7c_results, model_6_results"
      ],
      "execution_count": null,
      "outputs": [
        {
          "output_type": "execute_result",
          "data": {
            "text/plain": [
              "({'accuracy': 0.7834645669291339,\n",
              "  'f1': 0.7820169075127241,\n",
              "  'precision': 0.7843463033230456,\n",
              "  'recall': 0.7834645669291339},\n",
              " {'accuracy': 0.8162729658792651,\n",
              "  'f1': 0.8149987406062964,\n",
              "  'precision': 0.8178880419707742,\n",
              "  'recall': 0.8162729658792651})"
            ]
          },
          "metadata": {},
          "execution_count": 104
        }
      ]
    },
    {
      "cell_type": "markdown",
      "metadata": {
        "id": "j-2ZsY10VwLC"
      },
      "source": [
        "## Comparing the performance of each of our models"
      ]
    },
    {
      "cell_type": "code",
      "metadata": {
        "colab": {
          "base_uri": "https://localhost:8080/",
          "height": 300
        },
        "id": "w_yhGs-dbHtC",
        "outputId": "788ee9fa-7f19-4fa5-99af-4c9ad7a46d24"
      },
      "source": [
        "# Combine model results into a DataFrame\n",
        "all_model_results = pd.DataFrame({'baseline': baseline_results,\n",
        "                                  'Model_1_simple_dense': model_1_results,\n",
        "                                  'Model_2_lstm': model_2_results,\n",
        "                                  'Model_3_gru': model_3_results,\n",
        "                                  'Model_4_bidirectional': model_4_results,\n",
        "                                  'Model_5_Conv1D': model_5_results,\n",
        "                                  'Model_6_USE': model_6_results,\n",
        "                                  'Model_7_USE_10%': model_7_results\n",
        "                                  })\n",
        "all_model_results = all_model_results.transpose()\n",
        "all_model_results"
      ],
      "execution_count": null,
      "outputs": [
        {
          "output_type": "execute_result",
          "data": {
            "text/html": [
              "<div>\n",
              "<style scoped>\n",
              "    .dataframe tbody tr th:only-of-type {\n",
              "        vertical-align: middle;\n",
              "    }\n",
              "\n",
              "    .dataframe tbody tr th {\n",
              "        vertical-align: top;\n",
              "    }\n",
              "\n",
              "    .dataframe thead th {\n",
              "        text-align: right;\n",
              "    }\n",
              "</style>\n",
              "<table border=\"1\" class=\"dataframe\">\n",
              "  <thead>\n",
              "    <tr style=\"text-align: right;\">\n",
              "      <th></th>\n",
              "      <th>accuracy</th>\n",
              "      <th>precision</th>\n",
              "      <th>recall</th>\n",
              "      <th>f1</th>\n",
              "    </tr>\n",
              "  </thead>\n",
              "  <tbody>\n",
              "    <tr>\n",
              "      <th>baseline</th>\n",
              "      <td>0.792651</td>\n",
              "      <td>0.811139</td>\n",
              "      <td>0.792651</td>\n",
              "      <td>0.786219</td>\n",
              "    </tr>\n",
              "    <tr>\n",
              "      <th>Model_1_simple_dense</th>\n",
              "      <td>0.783465</td>\n",
              "      <td>0.783685</td>\n",
              "      <td>0.783465</td>\n",
              "      <td>0.782421</td>\n",
              "    </tr>\n",
              "    <tr>\n",
              "      <th>Model_2_lstm</th>\n",
              "      <td>0.786089</td>\n",
              "      <td>0.786343</td>\n",
              "      <td>0.786089</td>\n",
              "      <td>0.785058</td>\n",
              "    </tr>\n",
              "    <tr>\n",
              "      <th>Model_3_gru</th>\n",
              "      <td>0.769029</td>\n",
              "      <td>0.771739</td>\n",
              "      <td>0.769029</td>\n",
              "      <td>0.766386</td>\n",
              "    </tr>\n",
              "    <tr>\n",
              "      <th>Model_4_bidirectional</th>\n",
              "      <td>0.765092</td>\n",
              "      <td>0.765194</td>\n",
              "      <td>0.765092</td>\n",
              "      <td>0.763855</td>\n",
              "    </tr>\n",
              "    <tr>\n",
              "      <th>Model_5_Conv1D</th>\n",
              "      <td>0.767717</td>\n",
              "      <td>0.767545</td>\n",
              "      <td>0.767717</td>\n",
              "      <td>0.766793</td>\n",
              "    </tr>\n",
              "    <tr>\n",
              "      <th>Model_6_USE</th>\n",
              "      <td>0.816273</td>\n",
              "      <td>0.817888</td>\n",
              "      <td>0.816273</td>\n",
              "      <td>0.814999</td>\n",
              "    </tr>\n",
              "    <tr>\n",
              "      <th>Model_7_USE_10%</th>\n",
              "      <td>0.778215</td>\n",
              "      <td>0.779199</td>\n",
              "      <td>0.778215</td>\n",
              "      <td>0.776621</td>\n",
              "    </tr>\n",
              "  </tbody>\n",
              "</table>\n",
              "</div>"
            ],
            "text/plain": [
              "                       accuracy  precision    recall        f1\n",
              "baseline               0.792651   0.811139  0.792651  0.786219\n",
              "Model_1_simple_dense   0.783465   0.783685  0.783465  0.782421\n",
              "Model_2_lstm           0.786089   0.786343  0.786089  0.785058\n",
              "Model_3_gru            0.769029   0.771739  0.769029  0.766386\n",
              "Model_4_bidirectional  0.765092   0.765194  0.765092  0.763855\n",
              "Model_5_Conv1D         0.767717   0.767545  0.767717  0.766793\n",
              "Model_6_USE            0.816273   0.817888  0.816273  0.814999\n",
              "Model_7_USE_10%        0.778215   0.779199  0.778215  0.776621"
            ]
          },
          "metadata": {},
          "execution_count": 105
        }
      ]
    },
    {
      "cell_type": "code",
      "metadata": {
        "colab": {
          "base_uri": "https://localhost:8080/",
          "height": 696
        },
        "id": "I2mSodyHbY-7",
        "outputId": "817963c8-59be-4da6-8a13-b9c0b4dbee4d"
      },
      "source": [
        "# plot and compare all of the model results\n",
        "all_model_results.plot(kind='bar', figsize=(20, 10)).legend(bbox_to_anchor=(1.0,1.0));"
      ],
      "execution_count": null,
      "outputs": [
        {
          "output_type": "display_data",
          "data": {
            "image/png": "[encoded data removed]",
            "text/plain": [
              "<Figure size 1440x720 with 1 Axes>"
            ]
          },
          "metadata": {
            "needs_background": "light"
          }
        }
      ]
    },
    {
      "cell_type": "code",
      "metadata": {
        "colab": {
          "base_uri": "https://localhost:8080/",
          "height": 696
        },
        "id": "rGo1x5PJcopu",
        "outputId": "36c9902a-416d-4bb5-a3b1-91790540b76f"
      },
      "source": [
        "# Sort model results by f1-score\n",
        "all_model_results.sort_values('f1', ascending=False)['f1'].plot(kind='bar', figsize=(20, 10)).legend(bbox_to_anchor=(1.0,1.0));"
      ],
      "execution_count": null,
      "outputs": [
        {
          "output_type": "display_data",
          "data": {
            "image/png": "[encoded data removed]",
            "text/plain": [
              "<Figure size 1440x720 with 1 Axes>"
            ]
          },
          "metadata": {
            "needs_background": "light"
          }
        }
      ]
    },
    {
      "cell_type": "markdown",
      "metadata": {
        "id": "6fqh-rADdJ8u"
      },
      "source": [
        "## View training results on tensorboard"
      ]
    },
    {
      "cell_type": "code",
      "metadata": {
        "colab": {
          "base_uri": "https://localhost:8080/"
        },
        "id": "tkyZTrWAeCke",
        "outputId": "629e6b77-a84a-4feb-97d0-6dcca9e56093"
      },
      "source": [
        "!tensorboard dev upload --logdir ./model_logs \\\n",
        "  --name \"Intro to NLP\" \\\n",
        "  --description \"7 NLP models\" \\\n",
        "  --one_shot"
      ],
      "execution_count": null,
      "outputs": [
        {
          "output_type": "stream",
          "name": "stdout",
          "text": [
            "2021-10-01 04:17:32.730700: I tensorflow/stream_executor/cuda/cuda_gpu_executor.cc:937] successful NUMA node read from SysFS had negative value (-1), but there must be at least one NUMA node, so returning NUMA node zero\n",
            "2021-10-01 04:17:32.759914: I tensorflow/stream_executor/cuda/cuda_gpu_executor.cc:937] successful NUMA node read from SysFS had negative value (-1), but there must be at least one NUMA node, so returning NUMA node zero\n",
            "2021-10-01 04:17:32.760420: I tensorflow/stream_executor/cuda/cuda_gpu_executor.cc:937] successful NUMA node read from SysFS had negative value (-1), but there must be at least one NUMA node, so returning NUMA node zero\n",
            "\n",
            "***** TensorBoard Uploader *****\n",
            "\n",
            "This will upload your TensorBoard logs to https://tensorboard.dev/ from\n",
            "the following directory:\n",
            "\n",
            "./model_logs\n",
            "\n",
            "This TensorBoard will be visible to everyone. Do not upload sensitive\n",
            "data.\n",
            "\n",
            "Your use of this service is subject to Google's Terms of Service\n",
            "<https://policies.google.com/terms> and Privacy Policy\n",
            "<https://policies.google.com/privacy>, and TensorBoard.dev's Terms of Service\n",
            "<https://tensorboard.dev/policy/terms/>.\n",
            "\n",
            "This notice will not be shown again while you are logged into the uploader.\n",
            "To log out, run `tensorboard dev auth revoke`.\n",
            "\n",
            "Continue? (yes/NO) yes\n",
            "\n",
            "Please visit this URL to authorize this application: https://accounts.google.com/o/oauth2/auth?response_type=code&client_id=373649185512-8v619h5kft38l4456nm2dj4ubeqsrvh6.apps.googleusercontent.com&redirect_uri=urn%3Aietf%3Awg%3Aoauth%3A2.0%3Aoob&scope=openid+https%3A%2F%2Fwww.googleapis.com%2Fauth%2Fuserinfo.email&state=A9u7uuljE2RPQMrvfi21937S18RMCm&prompt=consent&access_type=offline\n",
            "Enter the authorization code: 4/1AX4XfWhT_bJEzL5PSvprJ3381e7FxLZF4o_fFYy4FoIrc0nwZRvYiWDUj2g\n",
            "\n",
            "\n",
            "New experiment created. View your TensorBoard at: https://tensorboard.dev/experiment/SXZoedrFRzeuP3W0fOn50w/\n",
            "\n",
            "\u001b[1m[2021-10-01T04:22:00]\u001b[0m Started scanning logdir.\n",
            "\u001b[1m[2021-10-01T04:22:11]\u001b[0m Total uploaded: 270 scalars, 0 tensors, 9 binary objects (5.9 MB)\n",
            "\u001b[1m[2021-10-01T04:22:11]\u001b[0m Done scanning logdir.\n",
            "\n",
            "\n",
            "Done. View your TensorBoard at https://tensorboard.dev/experiment/SXZoedrFRzeuP3W0fOn50w/\n"
          ]
        }
      ]
    },
    {
      "cell_type": "code",
      "metadata": {
        "colab": {
          "base_uri": "https://localhost:8080/"
        },
        "id": "gkOk9k5meXRi",
        "outputId": "2f8262b3-8e51-40f2-c6bb-bc2ed3dba14e"
      },
      "source": [
        "!tensorboard dev list"
      ],
      "execution_count": null,
      "outputs": [
        {
          "output_type": "stream",
          "name": "stdout",
          "text": [
            "2021-10-01 04:22:14.169327: I tensorflow/stream_executor/cuda/cuda_gpu_executor.cc:937] successful NUMA node read from SysFS had negative value (-1), but there must be at least one NUMA node, so returning NUMA node zero\n",
            "2021-10-01 04:22:14.177487: I tensorflow/stream_executor/cuda/cuda_gpu_executor.cc:937] successful NUMA node read from SysFS had negative value (-1), but there must be at least one NUMA node, so returning NUMA node zero\n",
            "2021-10-01 04:22:14.177989: I tensorflow/stream_executor/cuda/cuda_gpu_executor.cc:937] successful NUMA node read from SysFS had negative value (-1), but there must be at least one NUMA node, so returning NUMA node zero\n",
            "https://tensorboard.dev/experiment/SXZoedrFRzeuP3W0fOn50w/\n",
            "\tName                 Intro to NLP\n",
            "\tDescription          7 NLP models\n",
            "\tId                   SXZoedrFRzeuP3W0fOn50w\n",
            "\tCreated              2021-10-01 04:22:00 (21 seconds ago)\n",
            "\tUpdated              2021-10-01 04:22:11 (10 seconds ago)\n",
            "\tRuns                 18\n",
            "\tTags                 5\n",
            "\tScalars              270\n",
            "\tTensor bytes         0\n",
            "\tBinary object bytes  6200799\n",
            "Total: 1 experiment(s)\n"
          ]
        }
      ]
    },
    {
      "cell_type": "code",
      "metadata": {
        "id": "Bik863p4elwA"
      },
      "source": [
        "# To delete an experiment\n",
        "# !tensorboard dev delete --experiment_id apiowehrti9puhjckg"
      ],
      "execution_count": null,
      "outputs": []
    },
    {
      "cell_type": "markdown",
      "metadata": {
        "id": "6GQk1PjAgWs4"
      },
      "source": [
        "## Save and load model\n",
        "\n",
        "1. HDF5 format\n",
        "2. SavedModel format (tensorflow default)"
      ]
    },
    {
      "cell_type": "code",
      "metadata": {
        "colab": {
          "base_uri": "https://localhost:8080/"
        },
        "id": "w8Bll5Czgzey",
        "outputId": "5a93de27-c098-4bfe-ab54-33cbf772058c"
      },
      "source": [
        "from google.colab import drive\n",
        "drive.mount('/content/drive')"
      ],
      "execution_count": null,
      "outputs": [
        {
          "output_type": "stream",
          "name": "stdout",
          "text": [
            "Drive already mounted at /content/drive; to attempt to forcibly remount, call drive.mount(\"/content/drive\", force_remount=True).\n"
          ]
        }
      ]
    },
    {
      "cell_type": "code",
      "metadata": {
        "id": "ELp0X4I9gYrC"
      },
      "source": [
        "# model_6.save('/content/drive/MyDrive/personal_project/Tensorflow/nlp_model_6.h5')"
      ],
      "execution_count": null,
      "outputs": []
    },
    {
      "cell_type": "code",
      "metadata": {
        "id": "zeu5UklbhEoV"
      },
      "source": [
        "# Load model with custom Hub Layer (HDF5)\n",
        "import tensorflow_hub as hub\n",
        "loaded_model_6 = tf.keras.models.load_model('/content/drive/MyDrive/personal_project/Tensorflow/nlp_model_6.h5',\n",
        "                                            custom_objects = {'KerasLayer': hub.KerasLayer})"
      ],
      "execution_count": null,
      "outputs": []
    },
    {
      "cell_type": "code",
      "metadata": {
        "colab": {
          "base_uri": "https://localhost:8080/"
        },
        "id": "XEJCKAEYhxFG",
        "outputId": "15795617-ef56-4c0c-9ce7-a715ba40a2b6"
      },
      "source": [
        "# Evaluate\n",
        "loaded_model_6.evaluate(val_sentences, val_labels), model_6_results"
      ],
      "execution_count": null,
      "outputs": [
        {
          "output_type": "stream",
          "name": "stdout",
          "text": [
            "24/24 [==============================] - 1s 9ms/step - loss: 0.4264 - accuracy: 0.8150\n"
          ]
        },
        {
          "output_type": "execute_result",
          "data": {
            "text/plain": [
              "([0.42640089988708496, 0.8149606585502625],\n",
              " {'accuracy': 0.8162729658792651,\n",
              "  'f1': 0.8149987406062964,\n",
              "  'precision': 0.8178880419707742,\n",
              "  'recall': 0.8162729658792651})"
            ]
          },
          "metadata": {},
          "execution_count": 114
        }
      ]
    },
    {
      "cell_type": "code",
      "metadata": {
        "id": "LCP2j5HgiBkT"
      },
      "source": [
        "# model_6.save('/content/drive/MyDrive/personal_project/Tensorflow/nlp_model_6')"
      ],
      "execution_count": null,
      "outputs": []
    },
    {
      "cell_type": "code",
      "metadata": {
        "id": "FQ0kps_qiQ5J"
      },
      "source": [
        "loaded_model_6_savedmodel_format = tf.keras.models.load_model('/content/drive/MyDrive/personal_project/Tensorflow/nlp_model_6')"
      ],
      "execution_count": null,
      "outputs": []
    },
    {
      "cell_type": "code",
      "metadata": {
        "colab": {
          "base_uri": "https://localhost:8080/"
        },
        "id": "fs1JCem2ik13",
        "outputId": "3a02b083-1dfd-40ac-bf9e-66baa33ba0d4"
      },
      "source": [
        "loaded_model_6_savedmodel_format.evaluate(val_sentences, val_labels), model_6_results"
      ],
      "execution_count": null,
      "outputs": [
        {
          "output_type": "stream",
          "name": "stdout",
          "text": [
            "24/24 [==============================] - 1s 9ms/step - loss: 0.4264 - accuracy: 0.8150\n"
          ]
        },
        {
          "output_type": "execute_result",
          "data": {
            "text/plain": [
              "([0.42640092968940735, 0.8149606585502625],\n",
              " {'accuracy': 0.8162729658792651,\n",
              "  'f1': 0.8149987406062964,\n",
              "  'precision': 0.8178880419707742,\n",
              "  'recall': 0.8162729658792651})"
            ]
          },
          "metadata": {},
          "execution_count": 117
        }
      ]
    },
    {
      "cell_type": "markdown",
      "metadata": {
        "id": "rkdQ7TReinL9"
      },
      "source": [
        "## Find the most wrong examples"
      ]
    },
    {
      "cell_type": "code",
      "metadata": {
        "colab": {
          "base_uri": "https://localhost:8080/"
        },
        "id": "1dTFRUGUFO3t",
        "outputId": "462937ab-a447-495c-9cd1-8cd7578c56a4"
      },
      "source": [
        "# Import previously trained model\n",
        "model_6_pretrained = tf.keras.models.load_model('/content/drive/MyDrive/personal_project/Tensorflow/nlp_model_6')\n",
        "model_6_pretrained.evaluate(val_sentences, val_labels)"
      ],
      "execution_count": null,
      "outputs": [
        {
          "output_type": "stream",
          "name": "stdout",
          "text": [
            "24/24 [==============================] - 1s 9ms/step - loss: 0.4264 - accuracy: 0.8150\n"
          ]
        },
        {
          "output_type": "execute_result",
          "data": {
            "text/plain": [
              "[0.42640089988708496, 0.8149606585502625]"
            ]
          },
          "metadata": {},
          "execution_count": 118
        }
      ]
    },
    {
      "cell_type": "code",
      "metadata": {
        "colab": {
          "base_uri": "https://localhost:8080/"
        },
        "id": "9Tz0-sofF_qy",
        "outputId": "5bf24b5f-35ae-497f-a949-ac1a0c9b508b"
      },
      "source": [
        "# Make predictions\n",
        "model_6_pretrained_preds_probs = model_6_pretrained.predict(val_sentences)\n",
        "model_6_pretrained_preds = tf.round(tf.squeeze(model_6_pretrained_preds_probs))\n",
        "model_6_pretrained_preds[:10]"
      ],
      "execution_count": null,
      "outputs": [
        {
          "output_type": "execute_result",
          "data": {
            "text/plain": [
              "<tf.Tensor: shape=(10,), dtype=float32, numpy=array([0., 1., 1., 0., 1., 1., 1., 1., 1., 0.], dtype=float32)>"
            ]
          },
          "metadata": {},
          "execution_count": 120
        }
      ]
    },
    {
      "cell_type": "code",
      "metadata": {
        "colab": {
          "base_uri": "https://localhost:8080/",
          "height": 424
        },
        "id": "gAz0y263EMrF",
        "outputId": "0dc7a520-830b-4b60-a556-0967b995dbf1"
      },
      "source": [
        "# Create DataFrame with validation sentences, validation labels and best performing model prediction labels + probabilities\n",
        "val_df = pd.DataFrame({'text': val_sentences,\n",
        "                       'target': val_labels,\n",
        "                       'pred': model_6_pretrained_preds,\n",
        "                       'pred_prob': tf.squeeze(model_6_pretrained_preds_probs)})\n",
        "val_df"
      ],
      "execution_count": null,
      "outputs": [
        {
          "output_type": "execute_result",
          "data": {
            "text/html": [
              "<div>\n",
              "<style scoped>\n",
              "    .dataframe tbody tr th:only-of-type {\n",
              "        vertical-align: middle;\n",
              "    }\n",
              "\n",
              "    .dataframe tbody tr th {\n",
              "        vertical-align: top;\n",
              "    }\n",
              "\n",
              "    .dataframe thead th {\n",
              "        text-align: right;\n",
              "    }\n",
              "</style>\n",
              "<table border=\"1\" class=\"dataframe\">\n",
              "  <thead>\n",
              "    <tr style=\"text-align: right;\">\n",
              "      <th></th>\n",
              "      <th>text</th>\n",
              "      <th>target</th>\n",
              "      <th>pred</th>\n",
              "      <th>pred_prob</th>\n",
              "    </tr>\n",
              "  </thead>\n",
              "  <tbody>\n",
              "    <tr>\n",
              "      <th>0</th>\n",
              "      <td>DFR EP016 Monthly Meltdown - On Dnbheaven 2015...</td>\n",
              "      <td>0</td>\n",
              "      <td>0.0</td>\n",
              "      <td>0.174587</td>\n",
              "    </tr>\n",
              "    <tr>\n",
              "      <th>1</th>\n",
              "      <td>FedEx no longer to transport bioterror germs i...</td>\n",
              "      <td>0</td>\n",
              "      <td>1.0</td>\n",
              "      <td>0.809422</td>\n",
              "    </tr>\n",
              "    <tr>\n",
              "      <th>2</th>\n",
              "      <td>Gunmen kill four in El Salvador bus attack: Su...</td>\n",
              "      <td>1</td>\n",
              "      <td>1.0</td>\n",
              "      <td>0.986703</td>\n",
              "    </tr>\n",
              "    <tr>\n",
              "      <th>3</th>\n",
              "      <td>@camilacabello97 Internally and externally scr...</td>\n",
              "      <td>1</td>\n",
              "      <td>0.0</td>\n",
              "      <td>0.228871</td>\n",
              "    </tr>\n",
              "    <tr>\n",
              "      <th>4</th>\n",
              "      <td>Radiation emergency #preparedness starts with ...</td>\n",
              "      <td>1</td>\n",
              "      <td>1.0</td>\n",
              "      <td>0.781494</td>\n",
              "    </tr>\n",
              "    <tr>\n",
              "      <th>...</th>\n",
              "      <td>...</td>\n",
              "      <td>...</td>\n",
              "      <td>...</td>\n",
              "      <td>...</td>\n",
              "    </tr>\n",
              "    <tr>\n",
              "      <th>757</th>\n",
              "      <td>That's the ultimate road to destruction</td>\n",
              "      <td>0</td>\n",
              "      <td>0.0</td>\n",
              "      <td>0.129127</td>\n",
              "    </tr>\n",
              "    <tr>\n",
              "      <th>758</th>\n",
              "      <td>@SetZorah dad why dont you claim me that mean ...</td>\n",
              "      <td>0</td>\n",
              "      <td>0.0</td>\n",
              "      <td>0.131571</td>\n",
              "    </tr>\n",
              "    <tr>\n",
              "      <th>759</th>\n",
              "      <td>FedEx will no longer transport bioterror patho...</td>\n",
              "      <td>0</td>\n",
              "      <td>1.0</td>\n",
              "      <td>0.901434</td>\n",
              "    </tr>\n",
              "    <tr>\n",
              "      <th>760</th>\n",
              "      <td>Crack in the path where I wiped out this morni...</td>\n",
              "      <td>0</td>\n",
              "      <td>1.0</td>\n",
              "      <td>0.727700</td>\n",
              "    </tr>\n",
              "    <tr>\n",
              "      <th>761</th>\n",
              "      <td>I liked a @YouTube video from @dannyonpc http:...</td>\n",
              "      <td>0</td>\n",
              "      <td>0.0</td>\n",
              "      <td>0.116141</td>\n",
              "    </tr>\n",
              "  </tbody>\n",
              "</table>\n",
              "<p>762 rows × 4 columns</p>\n",
              "</div>"
            ],
            "text/plain": [
              "                                                  text  target  pred  pred_prob\n",
              "0    DFR EP016 Monthly Meltdown - On Dnbheaven 2015...       0   0.0   0.174587\n",
              "1    FedEx no longer to transport bioterror germs i...       0   1.0   0.809422\n",
              "2    Gunmen kill four in El Salvador bus attack: Su...       1   1.0   0.986703\n",
              "3    @camilacabello97 Internally and externally scr...       1   0.0   0.228871\n",
              "4    Radiation emergency #preparedness starts with ...       1   1.0   0.781494\n",
              "..                                                 ...     ...   ...        ...\n",
              "757            That's the ultimate road to destruction       0   0.0   0.129127\n",
              "758  @SetZorah dad why dont you claim me that mean ...       0   0.0   0.131571\n",
              "759  FedEx will no longer transport bioterror patho...       0   1.0   0.901434\n",
              "760  Crack in the path where I wiped out this morni...       0   1.0   0.727700\n",
              "761  I liked a @YouTube video from @dannyonpc http:...       0   0.0   0.116141\n",
              "\n",
              "[762 rows x 4 columns]"
            ]
          },
          "metadata": {},
          "execution_count": 122
        }
      ]
    },
    {
      "cell_type": "code",
      "metadata": {
        "colab": {
          "base_uri": "https://localhost:8080/",
          "height": 206
        },
        "id": "zZNi1UfYGoGm",
        "outputId": "9999eac1-b969-47e9-c53e-2434d1ef7f39"
      },
      "source": [
        "# Find the wrong predictions and sort by prediction probabilities\n",
        "most_wrong = val_df[val_df['target'] != val_df['pred']].sort_values('pred_prob', ascending=False)\n",
        "most_wrong.head() # false positives"
      ],
      "execution_count": null,
      "outputs": [
        {
          "output_type": "execute_result",
          "data": {
            "text/html": [
              "<div>\n",
              "<style scoped>\n",
              "    .dataframe tbody tr th:only-of-type {\n",
              "        vertical-align: middle;\n",
              "    }\n",
              "\n",
              "    .dataframe tbody tr th {\n",
              "        vertical-align: top;\n",
              "    }\n",
              "\n",
              "    .dataframe thead th {\n",
              "        text-align: right;\n",
              "    }\n",
              "</style>\n",
              "<table border=\"1\" class=\"dataframe\">\n",
              "  <thead>\n",
              "    <tr style=\"text-align: right;\">\n",
              "      <th></th>\n",
              "      <th>text</th>\n",
              "      <th>target</th>\n",
              "      <th>pred</th>\n",
              "      <th>pred_prob</th>\n",
              "    </tr>\n",
              "  </thead>\n",
              "  <tbody>\n",
              "    <tr>\n",
              "      <th>31</th>\n",
              "      <td>? High Skies - Burning Buildings ? http://t.co...</td>\n",
              "      <td>0</td>\n",
              "      <td>1.0</td>\n",
              "      <td>0.923310</td>\n",
              "    </tr>\n",
              "    <tr>\n",
              "      <th>759</th>\n",
              "      <td>FedEx will no longer transport bioterror patho...</td>\n",
              "      <td>0</td>\n",
              "      <td>1.0</td>\n",
              "      <td>0.901434</td>\n",
              "    </tr>\n",
              "    <tr>\n",
              "      <th>628</th>\n",
              "      <td>@noah_anyname That's where the concentration c...</td>\n",
              "      <td>0</td>\n",
              "      <td>1.0</td>\n",
              "      <td>0.883884</td>\n",
              "    </tr>\n",
              "    <tr>\n",
              "      <th>49</th>\n",
              "      <td>@madonnamking RSPCA site multiple 7 story high...</td>\n",
              "      <td>0</td>\n",
              "      <td>1.0</td>\n",
              "      <td>0.851173</td>\n",
              "    </tr>\n",
              "    <tr>\n",
              "      <th>109</th>\n",
              "      <td>[55436] 1950 LIONEL TRAINS SMOKE LOCOMOTIVES W...</td>\n",
              "      <td>0</td>\n",
              "      <td>1.0</td>\n",
              "      <td>0.846672</td>\n",
              "    </tr>\n",
              "  </tbody>\n",
              "</table>\n",
              "</div>"
            ],
            "text/plain": [
              "                                                  text  target  pred  pred_prob\n",
              "31   ? High Skies - Burning Buildings ? http://t.co...       0   1.0   0.923310\n",
              "759  FedEx will no longer transport bioterror patho...       0   1.0   0.901434\n",
              "628  @noah_anyname That's where the concentration c...       0   1.0   0.883884\n",
              "49   @madonnamking RSPCA site multiple 7 story high...       0   1.0   0.851173\n",
              "109  [55436] 1950 LIONEL TRAINS SMOKE LOCOMOTIVES W...       0   1.0   0.846672"
            ]
          },
          "metadata": {},
          "execution_count": 126
        }
      ]
    },
    {
      "cell_type": "code",
      "metadata": {
        "colab": {
          "base_uri": "https://localhost:8080/",
          "height": 206
        },
        "id": "YfgYJDeeHg5w",
        "outputId": "c4478afd-a9a0-4706-aaef-3078f44afb13"
      },
      "source": [
        "most_wrong.tail() # false negatives"
      ],
      "execution_count": null,
      "outputs": [
        {
          "output_type": "execute_result",
          "data": {
            "text/html": [
              "<div>\n",
              "<style scoped>\n",
              "    .dataframe tbody tr th:only-of-type {\n",
              "        vertical-align: middle;\n",
              "    }\n",
              "\n",
              "    .dataframe tbody tr th {\n",
              "        vertical-align: top;\n",
              "    }\n",
              "\n",
              "    .dataframe thead th {\n",
              "        text-align: right;\n",
              "    }\n",
              "</style>\n",
              "<table border=\"1\" class=\"dataframe\">\n",
              "  <thead>\n",
              "    <tr style=\"text-align: right;\">\n",
              "      <th></th>\n",
              "      <th>text</th>\n",
              "      <th>target</th>\n",
              "      <th>pred</th>\n",
              "      <th>pred_prob</th>\n",
              "    </tr>\n",
              "  </thead>\n",
              "  <tbody>\n",
              "    <tr>\n",
              "      <th>411</th>\n",
              "      <td>@SoonerMagic_ I mean I'm a fan but I don't nee...</td>\n",
              "      <td>1</td>\n",
              "      <td>0.0</td>\n",
              "      <td>0.051746</td>\n",
              "    </tr>\n",
              "    <tr>\n",
              "      <th>244</th>\n",
              "      <td>Reddit Will Now QuarantineÛ_ http://t.co/pkUA...</td>\n",
              "      <td>1</td>\n",
              "      <td>0.0</td>\n",
              "      <td>0.047285</td>\n",
              "    </tr>\n",
              "    <tr>\n",
              "      <th>233</th>\n",
              "      <td>I get to smoke my shit in peace</td>\n",
              "      <td>1</td>\n",
              "      <td>0.0</td>\n",
              "      <td>0.046643</td>\n",
              "    </tr>\n",
              "    <tr>\n",
              "      <th>38</th>\n",
              "      <td>Why are you deluged with low self-image? Take ...</td>\n",
              "      <td>1</td>\n",
              "      <td>0.0</td>\n",
              "      <td>0.042447</td>\n",
              "    </tr>\n",
              "    <tr>\n",
              "      <th>23</th>\n",
              "      <td>Ron &amp;amp; Fez - Dave's High School Crush https...</td>\n",
              "      <td>1</td>\n",
              "      <td>0.0</td>\n",
              "      <td>0.034856</td>\n",
              "    </tr>\n",
              "  </tbody>\n",
              "</table>\n",
              "</div>"
            ],
            "text/plain": [
              "                                                  text  target  pred  pred_prob\n",
              "411  @SoonerMagic_ I mean I'm a fan but I don't nee...       1   0.0   0.051746\n",
              "244  Reddit Will Now QuarantineÛ_ http://t.co/pkUA...       1   0.0   0.047285\n",
              "233                    I get to smoke my shit in peace       1   0.0   0.046643\n",
              "38   Why are you deluged with low self-image? Take ...       1   0.0   0.042447\n",
              "23   Ron &amp; Fez - Dave's High School Crush https...       1   0.0   0.034856"
            ]
          },
          "metadata": {},
          "execution_count": 127
        }
      ]
    },
    {
      "cell_type": "markdown",
      "metadata": {
        "id": "qfDg3WT_HUkD"
      },
      "source": [
        "`0` = not disaster\n",
        "\n",
        "`1` = disaster"
      ]
    },
    {
      "cell_type": "code",
      "metadata": {
        "colab": {
          "base_uri": "https://localhost:8080/"
        },
        "id": "3ttQ-yEcHLGa",
        "outputId": "89ab1728-3b75-4db2-8c18-32811fea2561"
      },
      "source": [
        "# Check the false positives\n",
        "for row in most_wrong[:10].itertuples():\n",
        "  _, text, target, pred, pred_prob = row\n",
        "  print(f'Target: {target}, Pred: {pred}, Prob: {pred_prob}')\n",
        "  print(f'Text:\\n{text}')\n",
        "  print('-----\\n')"
      ],
      "execution_count": null,
      "outputs": [
        {
          "output_type": "stream",
          "name": "stdout",
          "text": [
            "Target: 0, Pred: 1.0, Prob: 0.9233100414276123\n",
            "Text:\n",
            "? High Skies - Burning Buildings ? http://t.co/uVq41i3Kx2 #nowplaying\n",
            "-----\n",
            "\n",
            "Target: 0, Pred: 1.0, Prob: 0.9014342427253723\n",
            "Text:\n",
            "FedEx will no longer transport bioterror pathogens in wake of anthrax lab mishaps http://t.co/lHpgxc4b8J\n",
            "-----\n",
            "\n",
            "Target: 0, Pred: 1.0, Prob: 0.8838835954666138\n",
            "Text:\n",
            "@noah_anyname That's where the concentration camps and mass murder come in. \n",
            " \n",
            "EVERY. FUCKING. TIME.\n",
            "-----\n",
            "\n",
            "Target: 0, Pred: 1.0, Prob: 0.8511731028556824\n",
            "Text:\n",
            "@madonnamking RSPCA site multiple 7 story high rise buildings next to low density character residential in an area that floods\n",
            "-----\n",
            "\n",
            "Target: 0, Pred: 1.0, Prob: 0.8466724753379822\n",
            "Text:\n",
            "[55436] 1950 LIONEL TRAINS SMOKE LOCOMOTIVES WITH MAGNE-TRACTION INSTRUCTIONS http://t.co/xEZBs3sq0y http://t.co/C2x0QoKGlY\n",
            "-----\n",
            "\n",
            "Target: 0, Pred: 1.0, Prob: 0.8403772711753845\n",
            "Text:\n",
            "@AshGhebranious civil rights continued in the 60s. And what about trans-generational trauma? if anything we should listen to the Americans.\n",
            "-----\n",
            "\n",
            "Target: 0, Pred: 1.0, Prob: 0.8256688117980957\n",
            "Text:\n",
            "@SonofLiberty357 all illuminated by the brightly burning buildings all around the town!\n",
            "-----\n",
            "\n",
            "Target: 0, Pred: 1.0, Prob: 0.8248246908187866\n",
            "Text:\n",
            "åÈMGN-AFRICAå¨ pin:263789F4 åÈ Correction: Tent Collapse Story: Correction: Tent Collapse story åÈ http://t.co/fDJUYvZMrv @wizkidayo\n",
            "-----\n",
            "\n",
            "Target: 0, Pred: 1.0, Prob: 0.8133564591407776\n",
            "Text:\n",
            "Ashes 2015: AustraliaÛªs collapse at Trent Bridge among worst in history: England bundled out Australia for 60 ... http://t.co/t5TrhjUAU0\n",
            "-----\n",
            "\n",
            "Target: 0, Pred: 1.0, Prob: 0.8094222545623779\n",
            "Text:\n",
            "FedEx no longer to transport bioterror germs in wake of anthrax lab mishaps http://t.co/qZQc8WWwcN via @usatoday\n",
            "-----\n",
            "\n"
          ]
        }
      ]
    },
    {
      "cell_type": "code",
      "metadata": {
        "colab": {
          "base_uri": "https://localhost:8080/"
        },
        "id": "D5PXw4KCQtvt",
        "outputId": "61b7448c-e575-441b-f510-7f147b0e2247"
      },
      "source": [
        "# Check the false negatives\n",
        "for row in most_wrong[-10:].itertuples():\n",
        "  _, text, target, pred, pred_prob = row\n",
        "  print(f'Target: {target}, Pred: {pred}, Prob: {pred_prob}')\n",
        "  print(f'Text:\\n{text}')\n",
        "  print('-----\\n')"
      ],
      "execution_count": null,
      "outputs": [
        {
          "output_type": "stream",
          "name": "stdout",
          "text": [
            "Target: 1, Pred: 0.0, Prob: 0.06952616572380066\n",
            "Text:\n",
            "'The way you move is like a full on rainstorm and I'm a house of cards'\n",
            "-----\n",
            "\n",
            "Target: 1, Pred: 0.0, Prob: 0.06877453625202179\n",
            "Text:\n",
            "Lucas Duda is Ghost Rider. Not the Nic Cage version but an actual 'engulfed in flames' badass. #Mets\n",
            "-----\n",
            "\n",
            "Target: 1, Pred: 0.0, Prob: 0.06749311834573746\n",
            "Text:\n",
            "@willienelson We need help! Horses will die!Please RT &amp; sign petition!Take a stand &amp; be a voice for them! #gilbert23 https://t.co/e8dl1lNCVu\n",
            "-----\n",
            "\n",
            "Target: 1, Pred: 0.0, Prob: 0.0632554218173027\n",
            "Text:\n",
            "going to redo my nails and watch behind the scenes of desolation of smaug ayyy\n",
            "-----\n",
            "\n",
            "Target: 1, Pred: 0.0, Prob: 0.055508002638816833\n",
            "Text:\n",
            "You can never escape me. Bullets don't harm me. Nothing harms me. But I know pain. I know pain. Sometimes I share it. With someone like you.\n",
            "-----\n",
            "\n",
            "Target: 1, Pred: 0.0, Prob: 0.05174563452601433\n",
            "Text:\n",
            "@SoonerMagic_ I mean I'm a fan but I don't need a girl sounding off like a damn siren\n",
            "-----\n",
            "\n",
            "Target: 1, Pred: 0.0, Prob: 0.047284942120313644\n",
            "Text:\n",
            "Reddit Will Now QuarantineÛ_ http://t.co/pkUAMXw6pm #onlinecommunities #reddit #amageddon #freespeech #Business http://t.co/PAWvNJ4sAP\n",
            "-----\n",
            "\n",
            "Target: 1, Pred: 0.0, Prob: 0.04664302244782448\n",
            "Text:\n",
            "I get to smoke my shit in peace\n",
            "-----\n",
            "\n",
            "Target: 1, Pred: 0.0, Prob: 0.04244663566350937\n",
            "Text:\n",
            "Why are you deluged with low self-image? Take the quiz: http://t.co/XsPqdOrIqj http://t.co/CQYvFR4UCy\n",
            "-----\n",
            "\n",
            "Target: 1, Pred: 0.0, Prob: 0.03485576808452606\n",
            "Text:\n",
            "Ron &amp; Fez - Dave's High School Crush https://t.co/aN3W16c8F6 via @YouTube\n",
            "-----\n",
            "\n"
          ]
        }
      ]
    },
    {
      "cell_type": "markdown",
      "metadata": {
        "id": "l0dtbtX8QJcC"
      },
      "source": [
        "## Make predictions on test data"
      ]
    },
    {
      "cell_type": "code",
      "metadata": {
        "colab": {
          "base_uri": "https://localhost:8080/"
        },
        "id": "5QYjexnKRUht",
        "outputId": "b5905e91-048e-466f-909a-3417023de06e"
      },
      "source": [
        "# Import previously trained model\n",
        "model_6_pretrained = tf.keras.models.load_model('/content/drive/MyDrive/personal_project/Tensorflow/nlp_model_6.h5', \n",
        "                                                custom_objects = {'KerasLayer': hub.KerasLayer})\n",
        "model_6_pretrained.evaluate(val_sentences, val_labels)"
      ],
      "execution_count": null,
      "outputs": [
        {
          "output_type": "stream",
          "name": "stdout",
          "text": [
            "24/24 [==============================] - 1s 9ms/step - loss: 0.4264 - accuracy: 0.8150\n"
          ]
        },
        {
          "output_type": "execute_result",
          "data": {
            "text/plain": [
              "[0.42640092968940735, 0.8149606585502625]"
            ]
          },
          "metadata": {},
          "execution_count": 134
        }
      ]
    },
    {
      "cell_type": "code",
      "metadata": {
        "colab": {
          "base_uri": "https://localhost:8080/"
        },
        "id": "L5AL5u9hRflH",
        "outputId": "9a0c5d8c-53da-4a15-a64b-88d91be37258"
      },
      "source": [
        "test_sentences = test_df['text'].to_numpy()\n",
        "\n",
        "# Visualize random samples from test dataset\n",
        "test_samples = np.random.choice(test_sentences, size=10)\n",
        "for test_sample in test_samples:\n",
        "  pred_probs = tf.squeeze(model_6_pretrained.predict([test_sample]))\n",
        "  pred = tf.round(pred_probs)\n",
        "  print(f'test_sample: {test_sample}')\n",
        "  print(f'Pred: {int(pred)}, Prob: {pred_probs}\\n')"
      ],
      "execution_count": null,
      "outputs": [
        {
          "output_type": "stream",
          "name": "stdout",
          "text": [
            "test_sample: I don't think it was. It was very realistic. Scully finally had him home and sfe and he wanted to go out into the danger. @HipsBeforeHands\n",
            "Pred: 0, Prob: 0.20593376457691193\n",
            "\n",
            "test_sample: forestservice : RT dhsscitech: #Firefighters run into burning buildingsÛÓwe work on #tech tÛ_ http://t.co/KybQcSvrZa) http://t.co/Ih49kyMsMp\n",
            "Pred: 1, Prob: 0.7764796614646912\n",
            "\n",
            "test_sample: Just watched Punisher: War Zone. IDK why everyone hates it. It is basically the best possible movie you could get out of Punisher\n",
            "Pred: 0, Prob: 0.09130847454071045\n",
            "\n",
            "test_sample: the bitches say im hot i say no bitch im blazing\n",
            "Pred: 0, Prob: 0.05581830069422722\n",
            "\n",
            "test_sample: Refugio oil spill may have been costlier bigger than projected: A Plains All American PipelineÛ_ http://t.co/sryaFqj9gZ #globetrottingwino\n",
            "Pred: 1, Prob: 0.8898838758468628\n",
            "\n",
            "test_sample: You cut me open and I keep bleeding. #BleedingLove #LeonaLewis #acapella #singer #canadiansingerÛ_ https://t.co/51pfEIlPNK\n",
            "Pred: 0, Prob: 0.08773446083068848\n",
            "\n",
            "test_sample: It seems that we are inundated with ideas for large #weddings. Small intimate weddings are often not highlighted... http://t.co/Jshxfvllly\n",
            "Pred: 0, Prob: 0.07705383002758026\n",
            "\n",
            "test_sample: @vivigraubard of course not. for efforts to address short-sideness beyond not including a graf' would derail obvious backtracking efforts.\n",
            "Pred: 0, Prob: 0.28955957293510437\n",
            "\n",
            "test_sample: VAL JUST DIED AND IM ABSOLUTELY DEVASTATED #emmerdale\n",
            "Pred: 0, Prob: 0.11934711784124374\n",
            "\n",
            "test_sample: @RobynJilllian @WlSDOMTEETHS I feel like I'm going to do it on accident. Teesha is gonna come out??\n",
            "Pred: 0, Prob: 0.05516530200839043\n",
            "\n"
          ]
        }
      ]
    },
    {
      "cell_type": "code",
      "metadata": {
        "colab": {
          "base_uri": "https://localhost:8080/"
        },
        "id": "RQTYcXeNRzrk",
        "outputId": "65e01784-ed76-4fbb-f91e-43f0105c329f"
      },
      "source": [
        "test_pred_prob = model_6_pretrained.predict(test_sentences)\n",
        "test_pred_prob = tf.squeeze(test_pred_prob)\n",
        "test_pred = tf.round(test_pred_prob)\n",
        "test_pred[:10]"
      ],
      "execution_count": null,
      "outputs": [
        {
          "output_type": "execute_result",
          "data": {
            "text/plain": [
              "<tf.Tensor: shape=(10,), dtype=float32, numpy=array([1., 1., 1., 1., 1., 1., 0., 0., 0., 0.], dtype=float32)>"
            ]
          },
          "metadata": {},
          "execution_count": 152
        }
      ]
    },
    {
      "cell_type": "code",
      "metadata": {
        "colab": {
          "base_uri": "https://localhost:8080/",
          "height": 424
        },
        "id": "pDHoYNrhTmxf",
        "outputId": "5ff8be79-3dba-4c6b-dc79-484adbf8f363"
      },
      "source": [
        "submission = pd.DataFrame(test_df['id'])\n",
        "submission['target'] = tf.cast(test_pred, tf.int32)\n",
        "submission"
      ],
      "execution_count": null,
      "outputs": [
        {
          "output_type": "execute_result",
          "data": {
            "text/html": [
              "<div>\n",
              "<style scoped>\n",
              "    .dataframe tbody tr th:only-of-type {\n",
              "        vertical-align: middle;\n",
              "    }\n",
              "\n",
              "    .dataframe tbody tr th {\n",
              "        vertical-align: top;\n",
              "    }\n",
              "\n",
              "    .dataframe thead th {\n",
              "        text-align: right;\n",
              "    }\n",
              "</style>\n",
              "<table border=\"1\" class=\"dataframe\">\n",
              "  <thead>\n",
              "    <tr style=\"text-align: right;\">\n",
              "      <th></th>\n",
              "      <th>id</th>\n",
              "      <th>target</th>\n",
              "    </tr>\n",
              "  </thead>\n",
              "  <tbody>\n",
              "    <tr>\n",
              "      <th>0</th>\n",
              "      <td>0</td>\n",
              "      <td>1</td>\n",
              "    </tr>\n",
              "    <tr>\n",
              "      <th>1</th>\n",
              "      <td>2</td>\n",
              "      <td>1</td>\n",
              "    </tr>\n",
              "    <tr>\n",
              "      <th>2</th>\n",
              "      <td>3</td>\n",
              "      <td>1</td>\n",
              "    </tr>\n",
              "    <tr>\n",
              "      <th>3</th>\n",
              "      <td>9</td>\n",
              "      <td>1</td>\n",
              "    </tr>\n",
              "    <tr>\n",
              "      <th>4</th>\n",
              "      <td>11</td>\n",
              "      <td>1</td>\n",
              "    </tr>\n",
              "    <tr>\n",
              "      <th>...</th>\n",
              "      <td>...</td>\n",
              "      <td>...</td>\n",
              "    </tr>\n",
              "    <tr>\n",
              "      <th>3258</th>\n",
              "      <td>10861</td>\n",
              "      <td>1</td>\n",
              "    </tr>\n",
              "    <tr>\n",
              "      <th>3259</th>\n",
              "      <td>10865</td>\n",
              "      <td>1</td>\n",
              "    </tr>\n",
              "    <tr>\n",
              "      <th>3260</th>\n",
              "      <td>10868</td>\n",
              "      <td>1</td>\n",
              "    </tr>\n",
              "    <tr>\n",
              "      <th>3261</th>\n",
              "      <td>10874</td>\n",
              "      <td>1</td>\n",
              "    </tr>\n",
              "    <tr>\n",
              "      <th>3262</th>\n",
              "      <td>10875</td>\n",
              "      <td>1</td>\n",
              "    </tr>\n",
              "  </tbody>\n",
              "</table>\n",
              "<p>3263 rows × 2 columns</p>\n",
              "</div>"
            ],
            "text/plain": [
              "         id  target\n",
              "0         0       1\n",
              "1         2       1\n",
              "2         3       1\n",
              "3         9       1\n",
              "4        11       1\n",
              "...     ...     ...\n",
              "3258  10861       1\n",
              "3259  10865       1\n",
              "3260  10868       1\n",
              "3261  10874       1\n",
              "3262  10875       1\n",
              "\n",
              "[3263 rows x 2 columns]"
            ]
          },
          "metadata": {},
          "execution_count": 162
        }
      ]
    },
    {
      "cell_type": "code",
      "metadata": {
        "id": "HilJARltT15s"
      },
      "source": [
        "submission.to_csv('/content/drive/MyDrive/personal_project/Tensorflow/nlp_kaggle_disaster_competition/submission.csv',\n",
        "                  index=False)"
      ],
      "execution_count": null,
      "outputs": []
    }
  ]
}